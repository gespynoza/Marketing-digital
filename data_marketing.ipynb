{
  "cells": [
    {
      "cell_type": "markdown",
      "metadata": {
        "colab_type": "text",
        "id": "view-in-github"
      },
      "source": [
        "<a href=\"https://colab.research.google.com/github/luislemuspaz/Ciencia-de-Datos-en-Python/blob/master/data_marketing.ipynb\" target=\"_parent\"><img src=\"https://colab.research.google.com/assets/colab-badge.svg\" alt=\"Open In Colab\"/></a>"
      ]
    },
    {
      "cell_type": "markdown",
      "metadata": {
        "id": "C9DiCjpBVSpX"
      },
      "source": [
        "### Data Marketing"
      ]
    },
    {
      "attachments": {},
      "cell_type": "markdown",
      "metadata": {
        "id": "0iXgMp5EVPoe"
      },
      "source": [
        "The data set consists of data on customer profiles, product preferences, campaign successes and failures, and channel performance.\n",
        "\n",
        "This data set was pulled from the Kaggle platform for the purpose of statistical analysis. It can be used for EDA (exploratory data analysis), statistical analysis, and visualizations,Clustering, Decision Trees for Machine Learning"
      ]
    },
    {
      "cell_type": "code",
      "execution_count": null,
      "metadata": {},
      "outputs": [],
      "source": [
        "pip install numpy\n"
      ]
    },
    {
      "cell_type": "code",
      "execution_count": null,
      "metadata": {},
      "outputs": [],
      "source": [
        "pip install matplotlib"
      ]
    },
    {
      "cell_type": "code",
      "execution_count": null,
      "metadata": {},
      "outputs": [],
      "source": [
        "pip install pandas"
      ]
    },
    {
      "cell_type": "code",
      "execution_count": 2,
      "metadata": {
        "id": "KT6Y7EWKmP6R"
      },
      "outputs": [],
      "source": [
        "import numpy as np\n",
        "import pandas as pd"
      ]
    },
    {
      "cell_type": "code",
      "execution_count": 3,
      "metadata": {
        "colab": {
          "base_uri": "https://localhost:8080/",
          "height": 224
        },
        "id": "UqmpCm6Jmifv",
        "outputId": "d0b97bca-0a0e-40a4-da96-32089660ca07"
      },
      "outputs": [
        {
          "data": {
            "text/html": [
              "<div>\n",
              "<style scoped>\n",
              "    .dataframe tbody tr th:only-of-type {\n",
              "        vertical-align: middle;\n",
              "    }\n",
              "\n",
              "    .dataframe tbody tr th {\n",
              "        vertical-align: top;\n",
              "    }\n",
              "\n",
              "    .dataframe thead th {\n",
              "        text-align: right;\n",
              "    }\n",
              "</style>\n",
              "<table border=\"1\" class=\"dataframe\">\n",
              "  <thead>\n",
              "    <tr style=\"text-align: right;\">\n",
              "      <th></th>\n",
              "      <th>ID</th>\n",
              "      <th>Year_Birth</th>\n",
              "      <th>Education</th>\n",
              "      <th>Marital_Status</th>\n",
              "      <th>Income</th>\n",
              "      <th>Kidhome</th>\n",
              "      <th>Teenhome</th>\n",
              "      <th>Dt_Customer</th>\n",
              "      <th>Recency</th>\n",
              "      <th>MntWines</th>\n",
              "      <th>...</th>\n",
              "      <th>NumStorePurchases</th>\n",
              "      <th>NumWebVisitsMonth</th>\n",
              "      <th>AcceptedCmp3</th>\n",
              "      <th>AcceptedCmp4</th>\n",
              "      <th>AcceptedCmp5</th>\n",
              "      <th>AcceptedCmp1</th>\n",
              "      <th>AcceptedCmp2</th>\n",
              "      <th>Response</th>\n",
              "      <th>Complain</th>\n",
              "      <th>Country</th>\n",
              "    </tr>\n",
              "  </thead>\n",
              "  <tbody>\n",
              "    <tr>\n",
              "      <th>0</th>\n",
              "      <td>1826</td>\n",
              "      <td>1970</td>\n",
              "      <td>Graduation</td>\n",
              "      <td>Divorced</td>\n",
              "      <td>$84,835.00</td>\n",
              "      <td>0</td>\n",
              "      <td>0</td>\n",
              "      <td>6/16/14</td>\n",
              "      <td>0</td>\n",
              "      <td>189</td>\n",
              "      <td>...</td>\n",
              "      <td>6</td>\n",
              "      <td>1</td>\n",
              "      <td>0</td>\n",
              "      <td>0</td>\n",
              "      <td>0</td>\n",
              "      <td>0</td>\n",
              "      <td>0</td>\n",
              "      <td>1</td>\n",
              "      <td>0</td>\n",
              "      <td>SP</td>\n",
              "    </tr>\n",
              "    <tr>\n",
              "      <th>1</th>\n",
              "      <td>1</td>\n",
              "      <td>1961</td>\n",
              "      <td>Graduation</td>\n",
              "      <td>Single</td>\n",
              "      <td>$57,091.00</td>\n",
              "      <td>0</td>\n",
              "      <td>0</td>\n",
              "      <td>6/15/14</td>\n",
              "      <td>0</td>\n",
              "      <td>464</td>\n",
              "      <td>...</td>\n",
              "      <td>7</td>\n",
              "      <td>5</td>\n",
              "      <td>0</td>\n",
              "      <td>0</td>\n",
              "      <td>0</td>\n",
              "      <td>0</td>\n",
              "      <td>1</td>\n",
              "      <td>1</td>\n",
              "      <td>0</td>\n",
              "      <td>CA</td>\n",
              "    </tr>\n",
              "    <tr>\n",
              "      <th>2</th>\n",
              "      <td>10476</td>\n",
              "      <td>1958</td>\n",
              "      <td>Graduation</td>\n",
              "      <td>Married</td>\n",
              "      <td>$67,267.00</td>\n",
              "      <td>0</td>\n",
              "      <td>1</td>\n",
              "      <td>5/13/14</td>\n",
              "      <td>0</td>\n",
              "      <td>134</td>\n",
              "      <td>...</td>\n",
              "      <td>5</td>\n",
              "      <td>2</td>\n",
              "      <td>0</td>\n",
              "      <td>0</td>\n",
              "      <td>0</td>\n",
              "      <td>0</td>\n",
              "      <td>0</td>\n",
              "      <td>0</td>\n",
              "      <td>0</td>\n",
              "      <td>US</td>\n",
              "    </tr>\n",
              "    <tr>\n",
              "      <th>3</th>\n",
              "      <td>1386</td>\n",
              "      <td>1967</td>\n",
              "      <td>Graduation</td>\n",
              "      <td>Together</td>\n",
              "      <td>$32,474.00</td>\n",
              "      <td>1</td>\n",
              "      <td>1</td>\n",
              "      <td>05/11/2014</td>\n",
              "      <td>0</td>\n",
              "      <td>10</td>\n",
              "      <td>...</td>\n",
              "      <td>2</td>\n",
              "      <td>7</td>\n",
              "      <td>0</td>\n",
              "      <td>0</td>\n",
              "      <td>0</td>\n",
              "      <td>0</td>\n",
              "      <td>0</td>\n",
              "      <td>0</td>\n",
              "      <td>0</td>\n",
              "      <td>AUS</td>\n",
              "    </tr>\n",
              "    <tr>\n",
              "      <th>4</th>\n",
              "      <td>5371</td>\n",
              "      <td>1989</td>\n",
              "      <td>Graduation</td>\n",
              "      <td>Single</td>\n",
              "      <td>$21,474.00</td>\n",
              "      <td>1</td>\n",
              "      <td>0</td>\n",
              "      <td>04/08/2014</td>\n",
              "      <td>0</td>\n",
              "      <td>6</td>\n",
              "      <td>...</td>\n",
              "      <td>2</td>\n",
              "      <td>7</td>\n",
              "      <td>1</td>\n",
              "      <td>0</td>\n",
              "      <td>0</td>\n",
              "      <td>0</td>\n",
              "      <td>0</td>\n",
              "      <td>1</td>\n",
              "      <td>0</td>\n",
              "      <td>SP</td>\n",
              "    </tr>\n",
              "  </tbody>\n",
              "</table>\n",
              "<p>5 rows × 28 columns</p>\n",
              "</div>"
            ],
            "text/plain": [
              "      ID  Year_Birth   Education Marital_Status     Income   Kidhome  \\\n",
              "0   1826        1970  Graduation       Divorced  $84,835.00        0   \n",
              "1      1        1961  Graduation         Single  $57,091.00        0   \n",
              "2  10476        1958  Graduation        Married  $67,267.00        0   \n",
              "3   1386        1967  Graduation       Together  $32,474.00        1   \n",
              "4   5371        1989  Graduation         Single  $21,474.00        1   \n",
              "\n",
              "   Teenhome Dt_Customer  Recency  MntWines  ...  NumStorePurchases  \\\n",
              "0         0     6/16/14        0       189  ...                  6   \n",
              "1         0     6/15/14        0       464  ...                  7   \n",
              "2         1     5/13/14        0       134  ...                  5   \n",
              "3         1  05/11/2014        0        10  ...                  2   \n",
              "4         0  04/08/2014        0         6  ...                  2   \n",
              "\n",
              "   NumWebVisitsMonth  AcceptedCmp3  AcceptedCmp4  AcceptedCmp5  AcceptedCmp1  \\\n",
              "0                  1             0             0             0             0   \n",
              "1                  5             0             0             0             0   \n",
              "2                  2             0             0             0             0   \n",
              "3                  7             0             0             0             0   \n",
              "4                  7             1             0             0             0   \n",
              "\n",
              "   AcceptedCmp2  Response  Complain  Country  \n",
              "0             0         1         0       SP  \n",
              "1             1         1         0       CA  \n",
              "2             0         0         0       US  \n",
              "3             0         0         0      AUS  \n",
              "4             0         1         0       SP  \n",
              "\n",
              "[5 rows x 28 columns]"
            ]
          },
          "execution_count": 3,
          "metadata": {},
          "output_type": "execute_result"
        }
      ],
      "source": [
        "df = pd.read_csv(\"marketing_data.csv\")\n",
        "df.head()"
      ]
    },
    {
      "cell_type": "code",
      "execution_count": 4,
      "metadata": {
        "colab": {
          "base_uri": "https://localhost:8080/"
        },
        "id": "x8xZb_2rtToG",
        "outputId": "4e9186a1-f391-479a-90dc-c7f2ada113c3"
      },
      "outputs": [
        {
          "data": {
            "text/plain": [
              "(2240, 28)"
            ]
          },
          "execution_count": 4,
          "metadata": {},
          "output_type": "execute_result"
        }
      ],
      "source": [
        "df.shape"
      ]
    },
    {
      "attachments": {},
      "cell_type": "markdown",
      "metadata": {
        "id": "D1WJDiu2t-Kq"
      },
      "source": [
        "## Summarize Data Parte 2"
      ]
    },
    {
      "attachments": {},
      "cell_type": "markdown",
      "metadata": {
        "id": "jB6LOvVcudLG"
      },
      "source": [
        "We will compare the customers who accepted the offer in the first campaign with those who accepted the offer in the sixth and final campaign."
      ]
    },
    {
      "cell_type": "code",
      "execution_count": 5,
      "metadata": {
        "colab": {
          "base_uri": "https://localhost:8080/"
        },
        "id": "v-Gd6_mcuGCP",
        "outputId": "1d74856a-2919-4298-d6f6-211b01417700"
      },
      "outputs": [
        {
          "name": "stdout",
          "output_type": "stream",
          "text": [
            "(144, 28) (334, 28)\n"
          ]
        }
      ],
      "source": [
        "firstc = df[df[\"AcceptedCmp1\"] == 1]\n",
        "lastc = df[df[\"Response\"] == 1]\n",
        "print(firstc.shape, lastc.shape)"
      ]
    },
    {
      "cell_type": "code",
      "execution_count": 9,
      "metadata": {
        "id": "YBGWsHIpFfLV"
      },
      "outputs": [],
      "source": [
        "tc1 = ((firstc.shape[0] / df.shape[0])*100)"
      ]
    },
    {
      "cell_type": "code",
      "execution_count": 10,
      "metadata": {
        "colab": {
          "base_uri": "https://localhost:8080/"
        },
        "id": "8tAZy55at_l5",
        "outputId": "1d1ccef8-d9fe-45b0-824d-0be7f3fec909"
      },
      "outputs": [
        {
          "name": "stdout",
          "output_type": "stream",
          "text": [
            "Conversition rate at first campaing 6.428571428571428%\n"
          ]
        }
      ],
      "source": [
        "print(\"Conversition rate at first campaing \" + str(tc1) + \"%\")"
      ]
    },
    {
      "cell_type": "code",
      "execution_count": 11,
      "metadata": {
        "colab": {
          "base_uri": "https://localhost:8080/"
        },
        "id": "jZtZ8FMEwDd7",
        "outputId": "b831fc15-0e11-4dec-d583-538d6716d9d4"
      },
      "outputs": [
        {
          "name": "stderr",
          "output_type": "stream",
          "text": [
            "/tmp/ipykernel_4690/3581605224.py:1: FutureWarning: The default value of numeric_only in DataFrame.mean is deprecated. In a future version, it will default to False. In addition, specifying 'numeric_only=None' is deprecated. Select only valid columns or specify the value of numeric_only to silence this warning.\n",
            "  firstc.mean()\n"
          ]
        },
        {
          "data": {
            "text/plain": [
              "ID                     5324.493056\n",
              "Year_Birth             1968.534722\n",
              "Kidhome                   0.090278\n",
              "Teenhome                  0.215278\n",
              "Recency                  46.979167\n",
              "MntWines                758.604167\n",
              "MntFruits                55.847222\n",
              "MntMeatProducts         433.638889\n",
              "MntFishProducts          91.861111\n",
              "MntSweetProducts         65.138889\n",
              "MntGoldProds             77.131944\n",
              "NumDealsPurchases         1.416667\n",
              "NumWebPurchases           5.729167\n",
              "NumCatalogPurchases       6.097222\n",
              "NumStorePurchases         8.062500\n",
              "NumWebVisitsMonth         3.534722\n",
              "AcceptedCmp3              0.166667\n",
              "AcceptedCmp4              0.326389\n",
              "AcceptedCmp5              0.472222\n",
              "AcceptedCmp1              1.000000\n",
              "AcceptedCmp2              0.090278\n",
              "Response                  0.548611\n",
              "Complain                  0.000000\n",
              "dtype: float64"
            ]
          },
          "execution_count": 11,
          "metadata": {},
          "output_type": "execute_result"
        }
      ],
      "source": [
        "firstc.mean()"
      ]
    },
    {
      "cell_type": "code",
      "execution_count": 12,
      "metadata": {
        "colab": {
          "base_uri": "https://localhost:8080/"
        },
        "id": "HcRX65C6tl7_",
        "outputId": "2fb5bf52-8b68-4d2c-f58f-dcb3acea1890"
      },
      "outputs": [
        {
          "name": "stderr",
          "output_type": "stream",
          "text": [
            "/tmp/ipykernel_4690/1022178384.py:1: FutureWarning: The default value of numeric_only in DataFrame.mean is deprecated. In a future version, it will default to False. In addition, specifying 'numeric_only=None' is deprecated. Select only valid columns or specify the value of numeric_only to silence this warning.\n",
            "  lastc.mean()\n"
          ]
        },
        {
          "data": {
            "text/plain": [
              "ID                     5421.820359\n",
              "Year_Birth             1969.416168\n",
              "Kidhome                   0.341317\n",
              "Teenhome                  0.305389\n",
              "Recency                  35.383234\n",
              "MntWines                502.703593\n",
              "MntFruits                38.203593\n",
              "MntMeatProducts         294.353293\n",
              "MntFishProducts          52.050898\n",
              "MntSweetProducts         38.634731\n",
              "MntGoldProds             61.446108\n",
              "NumDealsPurchases         2.335329\n",
              "NumWebPurchases           5.071856\n",
              "NumCatalogPurchases       4.203593\n",
              "NumStorePurchases         6.095808\n",
              "NumWebVisitsMonth         5.293413\n",
              "AcceptedCmp3              0.230539\n",
              "AcceptedCmp4              0.185629\n",
              "AcceptedCmp5              0.275449\n",
              "AcceptedCmp1              0.236527\n",
              "AcceptedCmp2              0.059880\n",
              "Response                  1.000000\n",
              "Complain                  0.008982\n",
              "dtype: float64"
            ]
          },
          "execution_count": 12,
          "metadata": {},
          "output_type": "execute_result"
        }
      ],
      "source": [
        "lastc.mean()"
      ]
    },
    {
      "attachments": {},
      "cell_type": "markdown",
      "metadata": {
        "id": "JzzNzfuzQfOb"
      },
      "source": [
        "***The youngest*** "
      ]
    },
    {
      "cell_type": "code",
      "execution_count": 14,
      "metadata": {
        "colab": {
          "base_uri": "https://localhost:8080/"
        },
        "id": "M382WxbwQrcd",
        "outputId": "633481cc-d4f1-48f1-ddd9-ee5e5d84f8da"
      },
      "outputs": [
        {
          "name": "stdout",
          "output_type": "stream",
          "text": [
            "1968.5347222222222 1969.4161676646706\n"
          ]
        },
        {
          "name": "stderr",
          "output_type": "stream",
          "text": [
            "/tmp/ipykernel_4690/558685792.py:1: FutureWarning: The default value of numeric_only in DataFrame.mean is deprecated. In a future version, it will default to False. In addition, specifying 'numeric_only=None' is deprecated. Select only valid columns or specify the value of numeric_only to silence this warning.\n",
            "  print(firstc.mean()[1], lastc.mean()[1])\n"
          ]
        }
      ],
      "source": [
        "print(firstc.mean()[1], lastc.mean()[1])"
      ]
    },
    {
      "attachments": {},
      "cell_type": "markdown",
      "metadata": {
        "id": "wfr3_BRTQ8P4"
      },
      "source": [
        "\n",
        "There is no significant difference, but those who bought in the last campaign are younger."
      ]
    },
    {
      "attachments": {},
      "cell_type": "markdown",
      "metadata": {
        "id": "aQjsdSBxRPdK"
      },
      "source": [
        "***How many children do the two groups of clients have at home?*** "
      ]
    },
    {
      "cell_type": "code",
      "execution_count": 15,
      "metadata": {
        "colab": {
          "base_uri": "https://localhost:8080/"
        },
        "id": "_CfUANAETp00",
        "outputId": "005d9582-a5b8-4d07-edf7-513501646da5"
      },
      "outputs": [
        {
          "name": "stdout",
          "output_type": "stream",
          "text": [
            "0.09027777777777778 0.3413173652694611\n"
          ]
        },
        {
          "name": "stderr",
          "output_type": "stream",
          "text": [
            "/tmp/ipykernel_4690/1436301874.py:1: FutureWarning: The default value of numeric_only in DataFrame.mean is deprecated. In a future version, it will default to False. In addition, specifying 'numeric_only=None' is deprecated. Select only valid columns or specify the value of numeric_only to silence this warning.\n",
            "  print(firstc.mean()[2], lastc.mean()[2])\n"
          ]
        }
      ],
      "source": [
        "print(firstc.mean()[2], lastc.mean()[2])"
      ]
    },
    {
      "attachments": {},
      "cell_type": "markdown",
      "metadata": {
        "id": "jxdTz_6vUhW5"
      },
      "source": [
        "First campaing clients has less kids in home than the other group of clients"
      ]
    },
    {
      "attachments": {},
      "cell_type": "markdown",
      "metadata": {
        "id": "BQyRoP3yT6jn"
      },
      "source": [
        "***Number of days since last purchase***"
      ]
    },
    {
      "cell_type": "code",
      "execution_count": 16,
      "metadata": {
        "colab": {
          "base_uri": "https://localhost:8080/"
        },
        "id": "m8n0wJ7HUBoq",
        "outputId": "1c9ae077-5032-4d21-e068-6662315f6bda"
      },
      "outputs": [
        {
          "name": "stdout",
          "output_type": "stream",
          "text": [
            "46.979166666666664 35.383233532934135\n"
          ]
        },
        {
          "name": "stderr",
          "output_type": "stream",
          "text": [
            "/tmp/ipykernel_4690/2541765040.py:1: FutureWarning: The default value of numeric_only in DataFrame.mean is deprecated. In a future version, it will default to False. In addition, specifying 'numeric_only=None' is deprecated. Select only valid columns or specify the value of numeric_only to silence this warning.\n",
            "  print(firstc.mean()[4], lastc.mean()[4])\n"
          ]
        }
      ],
      "source": [
        "print(firstc.mean()[4], lastc.mean()[4])"
      ]
    },
    {
      "attachments": {},
      "cell_type": "markdown",
      "metadata": {
        "id": "nD8ljMXGUqo1"
      },
      "source": [
        "Customers who bought in the last campaign have fewer days since they made their last purchase."
      ]
    },
    {
      "attachments": {},
      "cell_type": "markdown",
      "metadata": {
        "id": "epSEStIOVLh6"
      },
      "source": [
        "***Who consumes more wine?***"
      ]
    },
    {
      "cell_type": "code",
      "execution_count": 17,
      "metadata": {
        "colab": {
          "base_uri": "https://localhost:8080/"
        },
        "id": "_D3ELEv4RQAp",
        "outputId": "4100a03c-1ee7-48fc-ca52-88be4c2cf61c"
      },
      "outputs": [
        {
          "name": "stdout",
          "output_type": "stream",
          "text": [
            "758.6041666666666 502.70359281437123\n"
          ]
        },
        {
          "name": "stderr",
          "output_type": "stream",
          "text": [
            "/tmp/ipykernel_4690/697525793.py:1: FutureWarning: The default value of numeric_only in DataFrame.mean is deprecated. In a future version, it will default to False. In addition, specifying 'numeric_only=None' is deprecated. Select only valid columns or specify the value of numeric_only to silence this warning.\n",
            "  print(firstc.mean()[5], lastc.mean()[5])\n"
          ]
        }
      ],
      "source": [
        "print(firstc.mean()[5], lastc.mean()[5])"
      ]
    },
    {
      "attachments": {},
      "cell_type": "markdown",
      "metadata": {
        "id": "a8ZqwlW5VXxX"
      },
      "source": [
        "The customers who responded to the first campaign consume more wine than the other group of customers."
      ]
    },
    {
      "attachments": {},
      "cell_type": "markdown",
      "metadata": {
        "id": "asDxmTEJYRy_"
      },
      "source": [
        "***Which customer group has had the most complaints?***"
      ]
    },
    {
      "cell_type": "code",
      "execution_count": 18,
      "metadata": {
        "colab": {
          "base_uri": "https://localhost:8080/"
        },
        "id": "gNt581I3Ymnf",
        "outputId": "20c7987d-2ec8-45f4-ea9b-a9cf24b57ded"
      },
      "outputs": [
        {
          "name": "stdout",
          "output_type": "stream",
          "text": [
            "0.0 0.008982035928143712\n"
          ]
        },
        {
          "name": "stderr",
          "output_type": "stream",
          "text": [
            "/tmp/ipykernel_4690/156532798.py:1: FutureWarning: The default value of numeric_only in DataFrame.mean is deprecated. In a future version, it will default to False. In addition, specifying 'numeric_only=None' is deprecated. Select only valid columns or specify the value of numeric_only to silence this warning.\n",
            "  print(firstc.mean()[-1], lastc.mean()[-1])\n"
          ]
        }
      ],
      "source": [
        "print(firstc.mean()[-1], lastc.mean()[-1])"
      ]
    },
    {
      "attachments": {},
      "cell_type": "markdown",
      "metadata": {
        "id": "YvJA3yGeYzzZ"
      },
      "source": [
        "Customers who responded to the first campaign do not have any complaints."
      ]
    },
    {
      "attachments": {},
      "cell_type": "markdown",
      "metadata": {
        "id": "hi7wPX3tVf5q"
      },
      "source": [
        "**Other summarized functions**"
      ]
    },
    {
      "cell_type": "code",
      "execution_count": 19,
      "metadata": {
        "id": "Od3vsIwhtmBn"
      },
      "outputs": [
        {
          "name": "stderr",
          "output_type": "stream",
          "text": [
            "/tmp/ipykernel_4690/3620556282.py:1: FutureWarning: The default value of numeric_only in DataFrame.std is deprecated. In a future version, it will default to False. In addition, specifying 'numeric_only=None' is deprecated. Select only valid columns or specify the value of numeric_only to silence this warning.\n",
            "  std1 = firstc.std()\n",
            "/tmp/ipykernel_4690/3620556282.py:2: FutureWarning: The default value of numeric_only in DataFrame.std is deprecated. In a future version, it will default to False. In addition, specifying 'numeric_only=None' is deprecated. Select only valid columns or specify the value of numeric_only to silence this warning.\n",
            "  std6 = lastc.std()\n"
          ]
        }
      ],
      "source": [
        "std1 = firstc.std()\n",
        "std6 = lastc.std()"
      ]
    },
    {
      "cell_type": "code",
      "execution_count": 69,
      "metadata": {
        "colab": {
          "base_uri": "https://localhost:8080/"
        },
        "id": "nmgCBS8Bmd3Q",
        "outputId": "8a256ebb-9af1-44f8-9729-8901a3b04c18"
      },
      "outputs": [
        {
          "name": "stdout",
          "output_type": "stream",
          "text": [
            "The average number of days since the last purchase for customers who purchased with the first campaign is 46.979166666666664 with a desviation standard of 28.380646599374746\n"
          ]
        },
        {
          "name": "stderr",
          "output_type": "stream",
          "text": [
            "/tmp/ipykernel_4690/2010868332.py:1: FutureWarning: The default value of numeric_only in DataFrame.mean is deprecated. In a future version, it will default to False. In addition, specifying 'numeric_only=None' is deprecated. Select only valid columns or specify the value of numeric_only to silence this warning.\n",
            "  print(\"The average number of days since the last purchase for customers who purchased with the first campaign is \" + str(firstc.mean()[4]) + \" with a desviation standard of \" + str(std1[4]))\n"
          ]
        }
      ],
      "source": [
        "print(\"The average number of days since the last purchase for customers who purchased with the first campaign is \" + str(firstc.mean()[4]) + \" with a desviation standard of \" + str(std1[4]))"
      ]
    },
    {
      "attachments": {},
      "cell_type": "markdown",
      "metadata": {
        "id": "JxLf-5_iciva"
      },
      "source": [
        "***Remember that we can use the \"describe\" function to summarize the statistics of all the variables***"
      ]
    },
    {
      "cell_type": "code",
      "execution_count": 21,
      "metadata": {
        "colab": {
          "base_uri": "https://localhost:8080/",
          "height": 317
        },
        "id": "YTtlRayybdQ1",
        "outputId": "5907cd74-49fd-41dc-d5ca-10d5e11ff8ec"
      },
      "outputs": [
        {
          "data": {
            "text/html": [
              "<div>\n",
              "<style scoped>\n",
              "    .dataframe tbody tr th:only-of-type {\n",
              "        vertical-align: middle;\n",
              "    }\n",
              "\n",
              "    .dataframe tbody tr th {\n",
              "        vertical-align: top;\n",
              "    }\n",
              "\n",
              "    .dataframe thead th {\n",
              "        text-align: right;\n",
              "    }\n",
              "</style>\n",
              "<table border=\"1\" class=\"dataframe\">\n",
              "  <thead>\n",
              "    <tr style=\"text-align: right;\">\n",
              "      <th></th>\n",
              "      <th>ID</th>\n",
              "      <th>Year_Birth</th>\n",
              "      <th>Kidhome</th>\n",
              "      <th>Teenhome</th>\n",
              "      <th>Recency</th>\n",
              "      <th>MntWines</th>\n",
              "      <th>MntFruits</th>\n",
              "      <th>MntMeatProducts</th>\n",
              "      <th>MntFishProducts</th>\n",
              "      <th>MntSweetProducts</th>\n",
              "      <th>...</th>\n",
              "      <th>NumCatalogPurchases</th>\n",
              "      <th>NumStorePurchases</th>\n",
              "      <th>NumWebVisitsMonth</th>\n",
              "      <th>AcceptedCmp3</th>\n",
              "      <th>AcceptedCmp4</th>\n",
              "      <th>AcceptedCmp5</th>\n",
              "      <th>AcceptedCmp1</th>\n",
              "      <th>AcceptedCmp2</th>\n",
              "      <th>Response</th>\n",
              "      <th>Complain</th>\n",
              "    </tr>\n",
              "  </thead>\n",
              "  <tbody>\n",
              "    <tr>\n",
              "      <th>count</th>\n",
              "      <td>144.000000</td>\n",
              "      <td>144.000000</td>\n",
              "      <td>144.000000</td>\n",
              "      <td>144.000000</td>\n",
              "      <td>144.000000</td>\n",
              "      <td>144.000000</td>\n",
              "      <td>144.000000</td>\n",
              "      <td>144.000000</td>\n",
              "      <td>144.000000</td>\n",
              "      <td>144.000000</td>\n",
              "      <td>...</td>\n",
              "      <td>144.000000</td>\n",
              "      <td>144.000000</td>\n",
              "      <td>144.000000</td>\n",
              "      <td>144.000000</td>\n",
              "      <td>144.000000</td>\n",
              "      <td>144.000000</td>\n",
              "      <td>144.0</td>\n",
              "      <td>144.000000</td>\n",
              "      <td>144.000000</td>\n",
              "      <td>144.0</td>\n",
              "    </tr>\n",
              "    <tr>\n",
              "      <th>mean</th>\n",
              "      <td>5324.493056</td>\n",
              "      <td>1968.534722</td>\n",
              "      <td>0.090278</td>\n",
              "      <td>0.215278</td>\n",
              "      <td>46.979167</td>\n",
              "      <td>758.604167</td>\n",
              "      <td>55.847222</td>\n",
              "      <td>433.638889</td>\n",
              "      <td>91.861111</td>\n",
              "      <td>65.138889</td>\n",
              "      <td>...</td>\n",
              "      <td>6.097222</td>\n",
              "      <td>8.062500</td>\n",
              "      <td>3.534722</td>\n",
              "      <td>0.166667</td>\n",
              "      <td>0.326389</td>\n",
              "      <td>0.472222</td>\n",
              "      <td>1.0</td>\n",
              "      <td>0.090278</td>\n",
              "      <td>0.548611</td>\n",
              "      <td>0.0</td>\n",
              "    </tr>\n",
              "    <tr>\n",
              "      <th>std</th>\n",
              "      <td>3078.326355</td>\n",
              "      <td>13.530547</td>\n",
              "      <td>0.332677</td>\n",
              "      <td>0.445069</td>\n",
              "      <td>28.380647</td>\n",
              "      <td>333.571922</td>\n",
              "      <td>55.342079</td>\n",
              "      <td>263.292935</td>\n",
              "      <td>73.293892</td>\n",
              "      <td>54.960203</td>\n",
              "      <td>...</td>\n",
              "      <td>2.517962</td>\n",
              "      <td>2.699958</td>\n",
              "      <td>2.044653</td>\n",
              "      <td>0.373979</td>\n",
              "      <td>0.470528</td>\n",
              "      <td>0.500970</td>\n",
              "      <td>0.0</td>\n",
              "      <td>0.287580</td>\n",
              "      <td>0.499368</td>\n",
              "      <td>0.0</td>\n",
              "    </tr>\n",
              "    <tr>\n",
              "      <th>min</th>\n",
              "      <td>146.000000</td>\n",
              "      <td>1944.000000</td>\n",
              "      <td>0.000000</td>\n",
              "      <td>0.000000</td>\n",
              "      <td>1.000000</td>\n",
              "      <td>152.000000</td>\n",
              "      <td>0.000000</td>\n",
              "      <td>21.000000</td>\n",
              "      <td>0.000000</td>\n",
              "      <td>0.000000</td>\n",
              "      <td>...</td>\n",
              "      <td>1.000000</td>\n",
              "      <td>4.000000</td>\n",
              "      <td>1.000000</td>\n",
              "      <td>0.000000</td>\n",
              "      <td>0.000000</td>\n",
              "      <td>0.000000</td>\n",
              "      <td>1.0</td>\n",
              "      <td>0.000000</td>\n",
              "      <td>0.000000</td>\n",
              "      <td>0.0</td>\n",
              "    </tr>\n",
              "    <tr>\n",
              "      <th>25%</th>\n",
              "      <td>2793.750000</td>\n",
              "      <td>1957.000000</td>\n",
              "      <td>0.000000</td>\n",
              "      <td>0.000000</td>\n",
              "      <td>25.000000</td>\n",
              "      <td>502.000000</td>\n",
              "      <td>19.750000</td>\n",
              "      <td>196.000000</td>\n",
              "      <td>32.000000</td>\n",
              "      <td>22.750000</td>\n",
              "      <td>...</td>\n",
              "      <td>4.000000</td>\n",
              "      <td>6.000000</td>\n",
              "      <td>2.000000</td>\n",
              "      <td>0.000000</td>\n",
              "      <td>0.000000</td>\n",
              "      <td>0.000000</td>\n",
              "      <td>1.0</td>\n",
              "      <td>0.000000</td>\n",
              "      <td>0.000000</td>\n",
              "      <td>0.0</td>\n",
              "    </tr>\n",
              "    <tr>\n",
              "      <th>50%</th>\n",
              "      <td>4901.500000</td>\n",
              "      <td>1969.500000</td>\n",
              "      <td>0.000000</td>\n",
              "      <td>0.000000</td>\n",
              "      <td>45.500000</td>\n",
              "      <td>761.500000</td>\n",
              "      <td>29.500000</td>\n",
              "      <td>437.500000</td>\n",
              "      <td>76.000000</td>\n",
              "      <td>46.500000</td>\n",
              "      <td>...</td>\n",
              "      <td>6.000000</td>\n",
              "      <td>8.000000</td>\n",
              "      <td>3.000000</td>\n",
              "      <td>0.000000</td>\n",
              "      <td>0.000000</td>\n",
              "      <td>0.000000</td>\n",
              "      <td>1.0</td>\n",
              "      <td>0.000000</td>\n",
              "      <td>1.000000</td>\n",
              "      <td>0.0</td>\n",
              "    </tr>\n",
              "    <tr>\n",
              "      <th>75%</th>\n",
              "      <td>7896.750000</td>\n",
              "      <td>1979.000000</td>\n",
              "      <td>0.000000</td>\n",
              "      <td>0.000000</td>\n",
              "      <td>71.250000</td>\n",
              "      <td>1006.750000</td>\n",
              "      <td>87.750000</td>\n",
              "      <td>614.750000</td>\n",
              "      <td>146.250000</td>\n",
              "      <td>98.000000</td>\n",
              "      <td>...</td>\n",
              "      <td>8.000000</td>\n",
              "      <td>10.000000</td>\n",
              "      <td>5.000000</td>\n",
              "      <td>0.000000</td>\n",
              "      <td>1.000000</td>\n",
              "      <td>1.000000</td>\n",
              "      <td>1.0</td>\n",
              "      <td>0.000000</td>\n",
              "      <td>1.000000</td>\n",
              "      <td>0.0</td>\n",
              "    </tr>\n",
              "    <tr>\n",
              "      <th>max</th>\n",
              "      <td>10965.000000</td>\n",
              "      <td>1994.000000</td>\n",
              "      <td>2.000000</td>\n",
              "      <td>2.000000</td>\n",
              "      <td>99.000000</td>\n",
              "      <td>1493.000000</td>\n",
              "      <td>190.000000</td>\n",
              "      <td>974.000000</td>\n",
              "      <td>253.000000</td>\n",
              "      <td>194.000000</td>\n",
              "      <td>...</td>\n",
              "      <td>11.000000</td>\n",
              "      <td>13.000000</td>\n",
              "      <td>9.000000</td>\n",
              "      <td>1.000000</td>\n",
              "      <td>1.000000</td>\n",
              "      <td>1.000000</td>\n",
              "      <td>1.0</td>\n",
              "      <td>1.000000</td>\n",
              "      <td>1.000000</td>\n",
              "      <td>0.0</td>\n",
              "    </tr>\n",
              "  </tbody>\n",
              "</table>\n",
              "<p>8 rows × 23 columns</p>\n",
              "</div>"
            ],
            "text/plain": [
              "                 ID   Year_Birth     Kidhome    Teenhome     Recency  \\\n",
              "count    144.000000   144.000000  144.000000  144.000000  144.000000   \n",
              "mean    5324.493056  1968.534722    0.090278    0.215278   46.979167   \n",
              "std     3078.326355    13.530547    0.332677    0.445069   28.380647   \n",
              "min      146.000000  1944.000000    0.000000    0.000000    1.000000   \n",
              "25%     2793.750000  1957.000000    0.000000    0.000000   25.000000   \n",
              "50%     4901.500000  1969.500000    0.000000    0.000000   45.500000   \n",
              "75%     7896.750000  1979.000000    0.000000    0.000000   71.250000   \n",
              "max    10965.000000  1994.000000    2.000000    2.000000   99.000000   \n",
              "\n",
              "          MntWines   MntFruits  MntMeatProducts  MntFishProducts  \\\n",
              "count   144.000000  144.000000       144.000000       144.000000   \n",
              "mean    758.604167   55.847222       433.638889        91.861111   \n",
              "std     333.571922   55.342079       263.292935        73.293892   \n",
              "min     152.000000    0.000000        21.000000         0.000000   \n",
              "25%     502.000000   19.750000       196.000000        32.000000   \n",
              "50%     761.500000   29.500000       437.500000        76.000000   \n",
              "75%    1006.750000   87.750000       614.750000       146.250000   \n",
              "max    1493.000000  190.000000       974.000000       253.000000   \n",
              "\n",
              "       MntSweetProducts  ...  NumCatalogPurchases  NumStorePurchases  \\\n",
              "count        144.000000  ...           144.000000         144.000000   \n",
              "mean          65.138889  ...             6.097222           8.062500   \n",
              "std           54.960203  ...             2.517962           2.699958   \n",
              "min            0.000000  ...             1.000000           4.000000   \n",
              "25%           22.750000  ...             4.000000           6.000000   \n",
              "50%           46.500000  ...             6.000000           8.000000   \n",
              "75%           98.000000  ...             8.000000          10.000000   \n",
              "max          194.000000  ...            11.000000          13.000000   \n",
              "\n",
              "       NumWebVisitsMonth  AcceptedCmp3  AcceptedCmp4  AcceptedCmp5  \\\n",
              "count         144.000000    144.000000    144.000000    144.000000   \n",
              "mean            3.534722      0.166667      0.326389      0.472222   \n",
              "std             2.044653      0.373979      0.470528      0.500970   \n",
              "min             1.000000      0.000000      0.000000      0.000000   \n",
              "25%             2.000000      0.000000      0.000000      0.000000   \n",
              "50%             3.000000      0.000000      0.000000      0.000000   \n",
              "75%             5.000000      0.000000      1.000000      1.000000   \n",
              "max             9.000000      1.000000      1.000000      1.000000   \n",
              "\n",
              "       AcceptedCmp1  AcceptedCmp2    Response  Complain  \n",
              "count         144.0    144.000000  144.000000     144.0  \n",
              "mean            1.0      0.090278    0.548611       0.0  \n",
              "std             0.0      0.287580    0.499368       0.0  \n",
              "min             1.0      0.000000    0.000000       0.0  \n",
              "25%             1.0      0.000000    0.000000       0.0  \n",
              "50%             1.0      0.000000    1.000000       0.0  \n",
              "75%             1.0      0.000000    1.000000       0.0  \n",
              "max             1.0      1.000000    1.000000       0.0  \n",
              "\n",
              "[8 rows x 23 columns]"
            ]
          },
          "execution_count": 21,
          "metadata": {},
          "output_type": "execute_result"
        }
      ],
      "source": [
        "firstc.describe()"
      ]
    },
    {
      "cell_type": "markdown",
      "metadata": {
        "id": "clfvaYVOc3un"
      },
      "source": [
        "## Group Data - Educación"
      ]
    },
    {
      "cell_type": "code",
      "execution_count": 22,
      "metadata": {
        "colab": {
          "base_uri": "https://localhost:8080/"
        },
        "id": "iTNv_Xxpf0Ti",
        "outputId": "2817364e-b9f0-4fae-98ec-aae85c83ff1f"
      },
      "outputs": [
        {
          "data": {
            "text/plain": [
              "Education\n",
              "2n Cycle      14\n",
              "Basic          0\n",
              "Graduation    82\n",
              "Master        18\n",
              "PhD           30\n",
              "Name: AcceptedCmp1, dtype: int64"
            ]
          },
          "execution_count": 22,
          "metadata": {},
          "output_type": "execute_result"
        }
      ],
      "source": [
        "df.groupby(by = \"Education\")[\"AcceptedCmp1\"].sum()"
      ]
    },
    {
      "cell_type": "code",
      "execution_count": 23,
      "metadata": {
        "colab": {
          "base_uri": "https://localhost:8080/"
        },
        "id": "q-ENonoAgJoU",
        "outputId": "985a1060-5758-4f46-883f-7473bf431050"
      },
      "outputs": [
        {
          "data": {
            "text/plain": [
              "Education\n",
              "2n Cycle       203\n",
              "Basic           54\n",
              "Graduation    1127\n",
              "Master         370\n",
              "PhD            486\n",
              "Name: AcceptedCmp1, dtype: int64"
            ]
          },
          "execution_count": 23,
          "metadata": {},
          "output_type": "execute_result"
        }
      ],
      "source": [
        "df.groupby(by = \"Education\")[\"AcceptedCmp1\"].count()"
      ]
    },
    {
      "cell_type": "code",
      "execution_count": 24,
      "metadata": {
        "id": "i1jyutyTc7QH"
      },
      "outputs": [],
      "source": [
        "conversions_by_edu = df.groupby(by = \"Education\")[\"AcceptedCmp1\"].sum() / df.groupby(by = \"Education\")[\"AcceptedCmp1\"].count() * 100"
      ]
    },
    {
      "cell_type": "code",
      "execution_count": 25,
      "metadata": {
        "id": "3RXMcLS_dWhI"
      },
      "outputs": [],
      "source": [
        "conversions_by_edu = pd.DataFrame(conversions_by_edu)"
      ]
    },
    {
      "cell_type": "code",
      "execution_count": 26,
      "metadata": {
        "colab": {
          "base_uri": "https://localhost:8080/",
          "height": 235
        },
        "id": "850Bw7I4fsjq",
        "outputId": "4912c340-93fe-4d78-c4a3-c3e41a31800d"
      },
      "outputs": [
        {
          "data": {
            "text/html": [
              "<div>\n",
              "<style scoped>\n",
              "    .dataframe tbody tr th:only-of-type {\n",
              "        vertical-align: middle;\n",
              "    }\n",
              "\n",
              "    .dataframe tbody tr th {\n",
              "        vertical-align: top;\n",
              "    }\n",
              "\n",
              "    .dataframe thead th {\n",
              "        text-align: right;\n",
              "    }\n",
              "</style>\n",
              "<table border=\"1\" class=\"dataframe\">\n",
              "  <thead>\n",
              "    <tr style=\"text-align: right;\">\n",
              "      <th></th>\n",
              "      <th>AcceptedCmp1</th>\n",
              "    </tr>\n",
              "    <tr>\n",
              "      <th>Education</th>\n",
              "      <th></th>\n",
              "    </tr>\n",
              "  </thead>\n",
              "  <tbody>\n",
              "    <tr>\n",
              "      <th>2n Cycle</th>\n",
              "      <td>6.896552</td>\n",
              "    </tr>\n",
              "    <tr>\n",
              "      <th>Basic</th>\n",
              "      <td>0.000000</td>\n",
              "    </tr>\n",
              "    <tr>\n",
              "      <th>Graduation</th>\n",
              "      <td>7.275954</td>\n",
              "    </tr>\n",
              "    <tr>\n",
              "      <th>Master</th>\n",
              "      <td>4.864865</td>\n",
              "    </tr>\n",
              "    <tr>\n",
              "      <th>PhD</th>\n",
              "      <td>6.172840</td>\n",
              "    </tr>\n",
              "  </tbody>\n",
              "</table>\n",
              "</div>"
            ],
            "text/plain": [
              "            AcceptedCmp1\n",
              "Education               \n",
              "2n Cycle        6.896552\n",
              "Basic           0.000000\n",
              "Graduation      7.275954\n",
              "Master          4.864865\n",
              "PhD             6.172840"
            ]
          },
          "execution_count": 26,
          "metadata": {},
          "output_type": "execute_result"
        }
      ],
      "source": [
        "conversions_by_edu"
      ]
    },
    {
      "cell_type": "code",
      "execution_count": 29,
      "metadata": {
        "id": "aJOY3jzLXRXm"
      },
      "outputs": [],
      "source": [
        "import matplotlib.pyplot as plt"
      ]
    },
    {
      "cell_type": "code",
      "execution_count": 23,
      "metadata": {
        "colab": {
          "base_uri": "https://localhost:8080/",
          "height": 504
        },
        "id": "Wh5lgEcvVzaz",
        "outputId": "65597afc-8dc2-4e3c-9e2f-d04d8ba3da90"
      },
      "outputs": [
        {
          "data": {
            "image/png": "[encoded data removed]",
            "text/plain": [
              "<Figure size 720x504 with 1 Axes>"
            ]
          },
          "metadata": {
            "needs_background": "light",
            "tags": []
          },
          "output_type": "display_data"
        }
      ],
      "source": [
        "axx = conversions_by_edu.loc[[\"Basic\", \"Master\", \"PhD\", \"2n Cycle\", \"Graduation\"]].plot(\n",
        "kind = \"bar\", color = \"green\", grid = True, figsize = (10, 7), title = \"Conversion Rates by Education\")\n",
        "axx.set_xlabel(\"Education\")\n",
        "axx.set_ylabel(\"conversion rate (%)\")\n",
        "plt.show()"
      ]
    },
    {
      "attachments": {},
      "cell_type": "markdown",
      "metadata": {
        "id": "oZrPDmhSWhFZ"
      },
      "source": [
        "There are more people graduated in the first campaign."
      ]
    },
    {
      "attachments": {},
      "cell_type": "markdown",
      "metadata": {
        "id": "48wQdSPRX8fr"
      },
      "source": [
        "## Group Data - Clompain"
      ]
    },
    {
      "cell_type": "code",
      "execution_count": null,
      "metadata": {
        "colab": {
          "base_uri": "https://localhost:8080/"
        },
        "id": "s_D9SQAzYERY",
        "outputId": "9e6334c6-e61b-4bda-d6b7-9af45416cb0d"
      },
      "outputs": [],
      "source": [
        "df.groupby(by = \"Complain\")[\"AcceptedCmp1\"].sum()"
      ]
    },
    {
      "cell_type": "code",
      "execution_count": null,
      "metadata": {
        "colab": {
          "base_uri": "https://localhost:8080/"
        },
        "id": "dNHZb3YwYggc",
        "outputId": "db1bccd8-ff50-421d-e5fe-663b3ccc2e7b"
      },
      "outputs": [],
      "source": [
        "df.groupby(by = \"Complain\")[\"AcceptedCmp1\"].count()"
      ]
    },
    {
      "cell_type": "code",
      "execution_count": 32,
      "metadata": {
        "id": "ElnhewA6Yihk"
      },
      "outputs": [],
      "source": [
        "conversions_by_complain = df.groupby(by = \"Complain\")[\"AcceptedCmp1\"].sum() / df.groupby(by = \"Complain\")[\"AcceptedCmp1\"].count() * 100"
      ]
    },
    {
      "cell_type": "code",
      "execution_count": 27,
      "metadata": {
        "id": "Eo2l09bkYzvi"
      },
      "outputs": [],
      "source": [
        "conversions_by_complain = pd.DataFrame(conversions_by_complain)"
      ]
    },
    {
      "cell_type": "code",
      "execution_count": null,
      "metadata": {
        "colab": {
          "base_uri": "https://localhost:8080/",
          "height": 142
        },
        "id": "JI2AZJibY5p_",
        "outputId": "f3dd55cf-e45e-410c-f692-b2d51c1b7730"
      },
      "outputs": [],
      "source": [
        "conversions_by_complain"
      ]
    },
    {
      "cell_type": "code",
      "execution_count": 36,
      "metadata": {
        "colab": {
          "base_uri": "https://localhost:8080/",
          "height": 455
        },
        "id": "4n1lbs93Xhej",
        "outputId": "cc3e28db-3e5a-4ed6-fb27-4e4d93e3beb1"
      },
      "outputs": [
        {
          "data": {
            "image/png": "[encoded data removed]",
            "text/plain": [
              "<Figure size 1000x700 with 1 Axes>"
            ]
          },
          "metadata": {},
          "output_type": "display_data"
        }
      ],
      "source": [
        "axy = conversions_by_complain.loc[[0, 1]].plot(\n",
        "kind = \"bar\", color = \"green\", grid = True, figsize = (10, 7), title = \"Conversion Rates by Complain\")\n",
        "axy.set_xlabel(\"Complain\")\n",
        "axy.set_ylabel(\"conversion rate (%)\")\n",
        "plt.show()"
      ]
    },
    {
      "attachments": {},
      "cell_type": "markdown",
      "metadata": {
        "id": "yNbs7HQtZJWq"
      },
      "source": [
        "To increase the chances that a person will buy the product with the first campaign, it will be important to focus on those who have no claims, and have a graduate educational level, or have a PhD."
      ]
    },
    {
      "attachments": {},
      "cell_type": "markdown",
      "metadata": {
        "id": "v4lAGJhoZzN1"
      },
      "source": [
        "## Are there customers who bought in more than one campaign?"
      ]
    },
    {
      "cell_type": "code",
      "execution_count": 37,
      "metadata": {
        "id": "ii_ah774bdA6"
      },
      "outputs": [],
      "source": [
        "df[\"Compras Totales\"] = df.AcceptedCmp1 + df.AcceptedCmp2 + df.AcceptedCmp3 + df.AcceptedCmp4 + df.AcceptedCmp5 + df.Response"
      ]
    },
    {
      "cell_type": "code",
      "execution_count": 38,
      "metadata": {
        "colab": {
          "base_uri": "https://localhost:8080/",
          "height": 241
        },
        "id": "-DPJDFiPJAlG",
        "outputId": "6a95e005-61a6-4b55-9454-671694f9a615"
      },
      "outputs": [
        {
          "data": {
            "text/html": [
              "<div>\n",
              "<style scoped>\n",
              "    .dataframe tbody tr th:only-of-type {\n",
              "        vertical-align: middle;\n",
              "    }\n",
              "\n",
              "    .dataframe tbody tr th {\n",
              "        vertical-align: top;\n",
              "    }\n",
              "\n",
              "    .dataframe thead th {\n",
              "        text-align: right;\n",
              "    }\n",
              "</style>\n",
              "<table border=\"1\" class=\"dataframe\">\n",
              "  <thead>\n",
              "    <tr style=\"text-align: right;\">\n",
              "      <th></th>\n",
              "      <th>ID</th>\n",
              "      <th>Year_Birth</th>\n",
              "      <th>Education</th>\n",
              "      <th>Marital_Status</th>\n",
              "      <th>Income</th>\n",
              "      <th>Kidhome</th>\n",
              "      <th>Teenhome</th>\n",
              "      <th>Dt_Customer</th>\n",
              "      <th>Recency</th>\n",
              "      <th>MntWines</th>\n",
              "      <th>...</th>\n",
              "      <th>NumWebVisitsMonth</th>\n",
              "      <th>AcceptedCmp3</th>\n",
              "      <th>AcceptedCmp4</th>\n",
              "      <th>AcceptedCmp5</th>\n",
              "      <th>AcceptedCmp1</th>\n",
              "      <th>AcceptedCmp2</th>\n",
              "      <th>Response</th>\n",
              "      <th>Complain</th>\n",
              "      <th>Country</th>\n",
              "      <th>Compras Totales</th>\n",
              "    </tr>\n",
              "  </thead>\n",
              "  <tbody>\n",
              "    <tr>\n",
              "      <th>0</th>\n",
              "      <td>1826</td>\n",
              "      <td>1970</td>\n",
              "      <td>Graduation</td>\n",
              "      <td>Divorced</td>\n",
              "      <td>$84,835.00</td>\n",
              "      <td>0</td>\n",
              "      <td>0</td>\n",
              "      <td>6/16/14</td>\n",
              "      <td>0</td>\n",
              "      <td>189</td>\n",
              "      <td>...</td>\n",
              "      <td>1</td>\n",
              "      <td>0</td>\n",
              "      <td>0</td>\n",
              "      <td>0</td>\n",
              "      <td>0</td>\n",
              "      <td>0</td>\n",
              "      <td>1</td>\n",
              "      <td>0</td>\n",
              "      <td>SP</td>\n",
              "      <td>1</td>\n",
              "    </tr>\n",
              "    <tr>\n",
              "      <th>1</th>\n",
              "      <td>1</td>\n",
              "      <td>1961</td>\n",
              "      <td>Graduation</td>\n",
              "      <td>Single</td>\n",
              "      <td>$57,091.00</td>\n",
              "      <td>0</td>\n",
              "      <td>0</td>\n",
              "      <td>6/15/14</td>\n",
              "      <td>0</td>\n",
              "      <td>464</td>\n",
              "      <td>...</td>\n",
              "      <td>5</td>\n",
              "      <td>0</td>\n",
              "      <td>0</td>\n",
              "      <td>0</td>\n",
              "      <td>0</td>\n",
              "      <td>1</td>\n",
              "      <td>1</td>\n",
              "      <td>0</td>\n",
              "      <td>CA</td>\n",
              "      <td>2</td>\n",
              "    </tr>\n",
              "    <tr>\n",
              "      <th>2</th>\n",
              "      <td>10476</td>\n",
              "      <td>1958</td>\n",
              "      <td>Graduation</td>\n",
              "      <td>Married</td>\n",
              "      <td>$67,267.00</td>\n",
              "      <td>0</td>\n",
              "      <td>1</td>\n",
              "      <td>5/13/14</td>\n",
              "      <td>0</td>\n",
              "      <td>134</td>\n",
              "      <td>...</td>\n",
              "      <td>2</td>\n",
              "      <td>0</td>\n",
              "      <td>0</td>\n",
              "      <td>0</td>\n",
              "      <td>0</td>\n",
              "      <td>0</td>\n",
              "      <td>0</td>\n",
              "      <td>0</td>\n",
              "      <td>US</td>\n",
              "      <td>0</td>\n",
              "    </tr>\n",
              "    <tr>\n",
              "      <th>3</th>\n",
              "      <td>1386</td>\n",
              "      <td>1967</td>\n",
              "      <td>Graduation</td>\n",
              "      <td>Together</td>\n",
              "      <td>$32,474.00</td>\n",
              "      <td>1</td>\n",
              "      <td>1</td>\n",
              "      <td>05/11/2014</td>\n",
              "      <td>0</td>\n",
              "      <td>10</td>\n",
              "      <td>...</td>\n",
              "      <td>7</td>\n",
              "      <td>0</td>\n",
              "      <td>0</td>\n",
              "      <td>0</td>\n",
              "      <td>0</td>\n",
              "      <td>0</td>\n",
              "      <td>0</td>\n",
              "      <td>0</td>\n",
              "      <td>AUS</td>\n",
              "      <td>0</td>\n",
              "    </tr>\n",
              "    <tr>\n",
              "      <th>4</th>\n",
              "      <td>5371</td>\n",
              "      <td>1989</td>\n",
              "      <td>Graduation</td>\n",
              "      <td>Single</td>\n",
              "      <td>$21,474.00</td>\n",
              "      <td>1</td>\n",
              "      <td>0</td>\n",
              "      <td>04/08/2014</td>\n",
              "      <td>0</td>\n",
              "      <td>6</td>\n",
              "      <td>...</td>\n",
              "      <td>7</td>\n",
              "      <td>1</td>\n",
              "      <td>0</td>\n",
              "      <td>0</td>\n",
              "      <td>0</td>\n",
              "      <td>0</td>\n",
              "      <td>1</td>\n",
              "      <td>0</td>\n",
              "      <td>SP</td>\n",
              "      <td>2</td>\n",
              "    </tr>\n",
              "  </tbody>\n",
              "</table>\n",
              "<p>5 rows × 29 columns</p>\n",
              "</div>"
            ],
            "text/plain": [
              "      ID  Year_Birth   Education Marital_Status     Income   Kidhome  \\\n",
              "0   1826        1970  Graduation       Divorced  $84,835.00        0   \n",
              "1      1        1961  Graduation         Single  $57,091.00        0   \n",
              "2  10476        1958  Graduation        Married  $67,267.00        0   \n",
              "3   1386        1967  Graduation       Together  $32,474.00        1   \n",
              "4   5371        1989  Graduation         Single  $21,474.00        1   \n",
              "\n",
              "   Teenhome Dt_Customer  Recency  MntWines  ...  NumWebVisitsMonth  \\\n",
              "0         0     6/16/14        0       189  ...                  1   \n",
              "1         0     6/15/14        0       464  ...                  5   \n",
              "2         1     5/13/14        0       134  ...                  2   \n",
              "3         1  05/11/2014        0        10  ...                  7   \n",
              "4         0  04/08/2014        0         6  ...                  7   \n",
              "\n",
              "   AcceptedCmp3  AcceptedCmp4  AcceptedCmp5  AcceptedCmp1  AcceptedCmp2  \\\n",
              "0             0             0             0             0             0   \n",
              "1             0             0             0             0             1   \n",
              "2             0             0             0             0             0   \n",
              "3             0             0             0             0             0   \n",
              "4             1             0             0             0             0   \n",
              "\n",
              "   Response  Complain  Country  Compras Totales  \n",
              "0         1         0       SP                1  \n",
              "1         1         0       CA                2  \n",
              "2         0         0       US                0  \n",
              "3         0         0      AUS                0  \n",
              "4         1         0       SP                2  \n",
              "\n",
              "[5 rows x 29 columns]"
            ]
          },
          "execution_count": 38,
          "metadata": {},
          "output_type": "execute_result"
        }
      ],
      "source": [
        "df.head()"
      ]
    },
    {
      "cell_type": "code",
      "execution_count": 40,
      "metadata": {
        "colab": {
          "base_uri": "https://localhost:8080/",
          "height": 282
        },
        "id": "fY1iFeEhJJGz",
        "outputId": "d45e308a-2d98-45c3-c9b1-bedd46af8f8c"
      },
      "outputs": [
        {
          "data": {
            "text/plain": [
              "<AxesSubplot: ylabel='Frequency'>"
            ]
          },
          "execution_count": 40,
          "metadata": {},
          "output_type": "execute_result"
        },
        {
          "data": {
            "image/png": "[encoded data removed]",
            "text/plain": [
              "<Figure size 640x480 with 1 Axes>"
            ]
          },
          "metadata": {},
          "output_type": "display_data"
        }
      ],
      "source": [
        "df[\"Compras Totales\"].plot.hist()"
      ]
    },
    {
      "cell_type": "code",
      "execution_count": 41,
      "metadata": {
        "colab": {
          "base_uri": "https://localhost:8080/"
        },
        "id": "Ptea0_FQJwLM",
        "outputId": "0a68223a-57b9-4683-e8f6-6edf9ebce860"
      },
      "outputs": [
        {
          "data": {
            "text/plain": [
              "Compras Totales\n",
              "0    1631\n",
              "1     370\n",
              "2     142\n",
              "3      51\n",
              "4      36\n",
              "5      10\n",
              "Name: Compras Totales, dtype: int64"
            ]
          },
          "execution_count": 41,
          "metadata": {},
          "output_type": "execute_result"
        }
      ],
      "source": [
        "df.groupby(by = \"Compras Totales\")[\"Compras Totales\"].count()"
      ]
    },
    {
      "cell_type": "code",
      "execution_count": 42,
      "metadata": {
        "id": "GmROpIGSOAtA"
      },
      "outputs": [],
      "source": [
        "cinco_compras = df[df[\"Compras Totales\"] == 5]"
      ]
    },
    {
      "cell_type": "code",
      "execution_count": 43,
      "metadata": {
        "colab": {
          "base_uri": "https://localhost:8080/"
        },
        "id": "UwkQxkSVPHhB",
        "outputId": "8aa04e77-5afc-4967-8f60-bf7567904428"
      },
      "outputs": [
        {
          "data": {
            "text/plain": [
              "(10, 29)"
            ]
          },
          "execution_count": 43,
          "metadata": {},
          "output_type": "execute_result"
        }
      ],
      "source": [
        "cinco_compras.shape"
      ]
    },
    {
      "cell_type": "code",
      "execution_count": 36,
      "metadata": {
        "colab": {
          "base_uri": "https://localhost:8080/",
          "height": 396
        },
        "id": "OMl_NcBBKuBu",
        "outputId": "fc90dcb3-a974-4116-fee2-dc29656a1d45"
      },
      "outputs": [
        {
          "data": {
            "text/html": [
              "<div>\n",
              "<style scoped>\n",
              "    .dataframe tbody tr th:only-of-type {\n",
              "        vertical-align: middle;\n",
              "    }\n",
              "\n",
              "    .dataframe tbody tr th {\n",
              "        vertical-align: top;\n",
              "    }\n",
              "\n",
              "    .dataframe thead th {\n",
              "        text-align: right;\n",
              "    }\n",
              "</style>\n",
              "<table border=\"1\" class=\"dataframe\">\n",
              "  <thead>\n",
              "    <tr style=\"text-align: right;\">\n",
              "      <th></th>\n",
              "      <th>ID</th>\n",
              "      <th>Year_Birth</th>\n",
              "      <th>Education</th>\n",
              "      <th>Marital_Status</th>\n",
              "      <th>Income</th>\n",
              "      <th>Kidhome</th>\n",
              "      <th>Teenhome</th>\n",
              "      <th>Dt_Customer</th>\n",
              "      <th>Recency</th>\n",
              "      <th>MntWines</th>\n",
              "      <th>MntFruits</th>\n",
              "      <th>MntMeatProducts</th>\n",
              "      <th>MntFishProducts</th>\n",
              "      <th>MntSweetProducts</th>\n",
              "      <th>MntGoldProds</th>\n",
              "      <th>NumDealsPurchases</th>\n",
              "      <th>NumWebPurchases</th>\n",
              "      <th>NumCatalogPurchases</th>\n",
              "      <th>NumStorePurchases</th>\n",
              "      <th>NumWebVisitsMonth</th>\n",
              "      <th>AcceptedCmp3</th>\n",
              "      <th>AcceptedCmp4</th>\n",
              "      <th>AcceptedCmp5</th>\n",
              "      <th>AcceptedCmp1</th>\n",
              "      <th>AcceptedCmp2</th>\n",
              "      <th>Response</th>\n",
              "      <th>Complain</th>\n",
              "      <th>Country</th>\n",
              "      <th>Compras Totales</th>\n",
              "    </tr>\n",
              "  </thead>\n",
              "  <tbody>\n",
              "    <tr>\n",
              "      <th>38</th>\n",
              "      <td>3725</td>\n",
              "      <td>1961</td>\n",
              "      <td>PhD</td>\n",
              "      <td>Single</td>\n",
              "      <td>$84,865.00</td>\n",
              "      <td>0</td>\n",
              "      <td>0</td>\n",
              "      <td>05/09/2013</td>\n",
              "      <td>1</td>\n",
              "      <td>1248</td>\n",
              "      <td>16</td>\n",
              "      <td>349</td>\n",
              "      <td>43</td>\n",
              "      <td>16</td>\n",
              "      <td>16</td>\n",
              "      <td>1</td>\n",
              "      <td>2</td>\n",
              "      <td>4</td>\n",
              "      <td>9</td>\n",
              "      <td>4</td>\n",
              "      <td>0</td>\n",
              "      <td>1</td>\n",
              "      <td>1</td>\n",
              "      <td>1</td>\n",
              "      <td>1</td>\n",
              "      <td>1</td>\n",
              "      <td>0</td>\n",
              "      <td>SP</td>\n",
              "      <td>5</td>\n",
              "    </tr>\n",
              "    <tr>\n",
              "      <th>142</th>\n",
              "      <td>10089</td>\n",
              "      <td>1974</td>\n",
              "      <td>Graduation</td>\n",
              "      <td>Divorced</td>\n",
              "      <td>$102,692.00</td>\n",
              "      <td>0</td>\n",
              "      <td>0</td>\n",
              "      <td>04/05/2013</td>\n",
              "      <td>5</td>\n",
              "      <td>168</td>\n",
              "      <td>148</td>\n",
              "      <td>444</td>\n",
              "      <td>32</td>\n",
              "      <td>172</td>\n",
              "      <td>148</td>\n",
              "      <td>1</td>\n",
              "      <td>6</td>\n",
              "      <td>9</td>\n",
              "      <td>13</td>\n",
              "      <td>2</td>\n",
              "      <td>0</td>\n",
              "      <td>1</td>\n",
              "      <td>1</td>\n",
              "      <td>1</td>\n",
              "      <td>1</td>\n",
              "      <td>1</td>\n",
              "      <td>0</td>\n",
              "      <td>SA</td>\n",
              "      <td>5</td>\n",
              "    </tr>\n",
              "    <tr>\n",
              "      <th>152</th>\n",
              "      <td>8545</td>\n",
              "      <td>1954</td>\n",
              "      <td>Graduation</td>\n",
              "      <td>Divorced</td>\n",
              "      <td>$85,683.00</td>\n",
              "      <td>0</td>\n",
              "      <td>0</td>\n",
              "      <td>3/21/14</td>\n",
              "      <td>6</td>\n",
              "      <td>1296</td>\n",
              "      <td>17</td>\n",
              "      <td>311</td>\n",
              "      <td>45</td>\n",
              "      <td>69</td>\n",
              "      <td>51</td>\n",
              "      <td>1</td>\n",
              "      <td>2</td>\n",
              "      <td>4</td>\n",
              "      <td>10</td>\n",
              "      <td>1</td>\n",
              "      <td>0</td>\n",
              "      <td>1</td>\n",
              "      <td>1</td>\n",
              "      <td>1</td>\n",
              "      <td>1</td>\n",
              "      <td>1</td>\n",
              "      <td>0</td>\n",
              "      <td>SP</td>\n",
              "      <td>5</td>\n",
              "    </tr>\n",
              "    <tr>\n",
              "      <th>522</th>\n",
              "      <td>5758</td>\n",
              "      <td>1982</td>\n",
              "      <td>Graduation</td>\n",
              "      <td>Married</td>\n",
              "      <td>$65,169.00</td>\n",
              "      <td>0</td>\n",
              "      <td>0</td>\n",
              "      <td>1/14/14</td>\n",
              "      <td>23</td>\n",
              "      <td>1074</td>\n",
              "      <td>0</td>\n",
              "      <td>69</td>\n",
              "      <td>0</td>\n",
              "      <td>0</td>\n",
              "      <td>46</td>\n",
              "      <td>1</td>\n",
              "      <td>10</td>\n",
              "      <td>4</td>\n",
              "      <td>13</td>\n",
              "      <td>6</td>\n",
              "      <td>1</td>\n",
              "      <td>0</td>\n",
              "      <td>1</td>\n",
              "      <td>1</td>\n",
              "      <td>1</td>\n",
              "      <td>1</td>\n",
              "      <td>0</td>\n",
              "      <td>SP</td>\n",
              "      <td>5</td>\n",
              "    </tr>\n",
              "    <tr>\n",
              "      <th>724</th>\n",
              "      <td>477</td>\n",
              "      <td>1986</td>\n",
              "      <td>Graduation</td>\n",
              "      <td>Married</td>\n",
              "      <td>$83,512.00</td>\n",
              "      <td>0</td>\n",
              "      <td>0</td>\n",
              "      <td>6/17/14</td>\n",
              "      <td>31</td>\n",
              "      <td>1060</td>\n",
              "      <td>61</td>\n",
              "      <td>835</td>\n",
              "      <td>80</td>\n",
              "      <td>20</td>\n",
              "      <td>101</td>\n",
              "      <td>1</td>\n",
              "      <td>4</td>\n",
              "      <td>7</td>\n",
              "      <td>10</td>\n",
              "      <td>1</td>\n",
              "      <td>1</td>\n",
              "      <td>0</td>\n",
              "      <td>1</td>\n",
              "      <td>1</td>\n",
              "      <td>1</td>\n",
              "      <td>1</td>\n",
              "      <td>0</td>\n",
              "      <td>SP</td>\n",
              "      <td>5</td>\n",
              "    </tr>\n",
              "    <tr>\n",
              "      <th>1385</th>\n",
              "      <td>3174</td>\n",
              "      <td>1959</td>\n",
              "      <td>Graduation</td>\n",
              "      <td>Together</td>\n",
              "      <td>$87,771.00</td>\n",
              "      <td>0</td>\n",
              "      <td>1</td>\n",
              "      <td>5/22/13</td>\n",
              "      <td>61</td>\n",
              "      <td>1492</td>\n",
              "      <td>38</td>\n",
              "      <td>287</td>\n",
              "      <td>50</td>\n",
              "      <td>57</td>\n",
              "      <td>33</td>\n",
              "      <td>1</td>\n",
              "      <td>5</td>\n",
              "      <td>10</td>\n",
              "      <td>4</td>\n",
              "      <td>6</td>\n",
              "      <td>0</td>\n",
              "      <td>1</td>\n",
              "      <td>1</td>\n",
              "      <td>1</td>\n",
              "      <td>1</td>\n",
              "      <td>1</td>\n",
              "      <td>0</td>\n",
              "      <td>SP</td>\n",
              "      <td>5</td>\n",
              "    </tr>\n",
              "    <tr>\n",
              "      <th>1386</th>\n",
              "      <td>5536</td>\n",
              "      <td>1959</td>\n",
              "      <td>Graduation</td>\n",
              "      <td>Together</td>\n",
              "      <td>$87,771.00</td>\n",
              "      <td>0</td>\n",
              "      <td>1</td>\n",
              "      <td>5/22/13</td>\n",
              "      <td>61</td>\n",
              "      <td>1492</td>\n",
              "      <td>38</td>\n",
              "      <td>287</td>\n",
              "      <td>50</td>\n",
              "      <td>57</td>\n",
              "      <td>33</td>\n",
              "      <td>1</td>\n",
              "      <td>5</td>\n",
              "      <td>10</td>\n",
              "      <td>4</td>\n",
              "      <td>6</td>\n",
              "      <td>0</td>\n",
              "      <td>1</td>\n",
              "      <td>1</td>\n",
              "      <td>1</td>\n",
              "      <td>1</td>\n",
              "      <td>1</td>\n",
              "      <td>0</td>\n",
              "      <td>CA</td>\n",
              "      <td>5</td>\n",
              "    </tr>\n",
              "    <tr>\n",
              "      <th>1813</th>\n",
              "      <td>1509</td>\n",
              "      <td>1958</td>\n",
              "      <td>PhD</td>\n",
              "      <td>Together</td>\n",
              "      <td>$84,460.00</td>\n",
              "      <td>0</td>\n",
              "      <td>0</td>\n",
              "      <td>01/04/2013</td>\n",
              "      <td>80</td>\n",
              "      <td>152</td>\n",
              "      <td>27</td>\n",
              "      <td>103</td>\n",
              "      <td>106</td>\n",
              "      <td>54</td>\n",
              "      <td>81</td>\n",
              "      <td>0</td>\n",
              "      <td>9</td>\n",
              "      <td>9</td>\n",
              "      <td>4</td>\n",
              "      <td>5</td>\n",
              "      <td>0</td>\n",
              "      <td>1</td>\n",
              "      <td>1</td>\n",
              "      <td>1</td>\n",
              "      <td>1</td>\n",
              "      <td>1</td>\n",
              "      <td>0</td>\n",
              "      <td>SP</td>\n",
              "      <td>5</td>\n",
              "    </tr>\n",
              "    <tr>\n",
              "      <th>1913</th>\n",
              "      <td>3138</td>\n",
              "      <td>1956</td>\n",
              "      <td>Graduation</td>\n",
              "      <td>Single</td>\n",
              "      <td>$91,249.00</td>\n",
              "      <td>0</td>\n",
              "      <td>0</td>\n",
              "      <td>10/20/12</td>\n",
              "      <td>84</td>\n",
              "      <td>1324</td>\n",
              "      <td>27</td>\n",
              "      <td>119</td>\n",
              "      <td>71</td>\n",
              "      <td>108</td>\n",
              "      <td>27</td>\n",
              "      <td>0</td>\n",
              "      <td>7</td>\n",
              "      <td>9</td>\n",
              "      <td>6</td>\n",
              "      <td>4</td>\n",
              "      <td>0</td>\n",
              "      <td>1</td>\n",
              "      <td>1</td>\n",
              "      <td>1</td>\n",
              "      <td>1</td>\n",
              "      <td>1</td>\n",
              "      <td>0</td>\n",
              "      <td>SP</td>\n",
              "      <td>5</td>\n",
              "    </tr>\n",
              "    <tr>\n",
              "      <th>2125</th>\n",
              "      <td>3520</td>\n",
              "      <td>1990</td>\n",
              "      <td>Master</td>\n",
              "      <td>Single</td>\n",
              "      <td>$91,172.00</td>\n",
              "      <td>0</td>\n",
              "      <td>0</td>\n",
              "      <td>3/27/13</td>\n",
              "      <td>94</td>\n",
              "      <td>162</td>\n",
              "      <td>28</td>\n",
              "      <td>818</td>\n",
              "      <td>0</td>\n",
              "      <td>28</td>\n",
              "      <td>56</td>\n",
              "      <td>0</td>\n",
              "      <td>4</td>\n",
              "      <td>3</td>\n",
              "      <td>7</td>\n",
              "      <td>3</td>\n",
              "      <td>1</td>\n",
              "      <td>0</td>\n",
              "      <td>1</td>\n",
              "      <td>1</td>\n",
              "      <td>1</td>\n",
              "      <td>1</td>\n",
              "      <td>0</td>\n",
              "      <td>CA</td>\n",
              "      <td>5</td>\n",
              "    </tr>\n",
              "  </tbody>\n",
              "</table>\n",
              "</div>"
            ],
            "text/plain": [
              "         ID  Year_Birth   Education  ... Complain Country  Compras Totales\n",
              "38     3725        1961         PhD  ...        0      SP                5\n",
              "142   10089        1974  Graduation  ...        0      SA                5\n",
              "152    8545        1954  Graduation  ...        0      SP                5\n",
              "522    5758        1982  Graduation  ...        0      SP                5\n",
              "724     477        1986  Graduation  ...        0      SP                5\n",
              "1385   3174        1959  Graduation  ...        0      SP                5\n",
              "1386   5536        1959  Graduation  ...        0      CA                5\n",
              "1813   1509        1958         PhD  ...        0      SP                5\n",
              "1913   3138        1956  Graduation  ...        0      SP                5\n",
              "2125   3520        1990      Master  ...        0      CA                5\n",
              "\n",
              "[10 rows x 29 columns]"
            ]
          },
          "execution_count": 36,
          "metadata": {
            "tags": []
          },
          "output_type": "execute_result"
        }
      ],
      "source": [
        "cinco_compras"
      ]
    },
    {
      "cell_type": "code",
      "execution_count": 37,
      "metadata": {
        "colab": {
          "base_uri": "https://localhost:8080/",
          "height": 334
        },
        "id": "-bBNz8InSa0v",
        "outputId": "98457007-0547-4d52-b967-6475a5b17cc0"
      },
      "outputs": [
        {
          "data": {
            "text/html": [
              "<div>\n",
              "<style scoped>\n",
              "    .dataframe tbody tr th:only-of-type {\n",
              "        vertical-align: middle;\n",
              "    }\n",
              "\n",
              "    .dataframe tbody tr th {\n",
              "        vertical-align: top;\n",
              "    }\n",
              "\n",
              "    .dataframe thead th {\n",
              "        text-align: right;\n",
              "    }\n",
              "</style>\n",
              "<table border=\"1\" class=\"dataframe\">\n",
              "  <thead>\n",
              "    <tr style=\"text-align: right;\">\n",
              "      <th></th>\n",
              "      <th>ID</th>\n",
              "      <th>Year_Birth</th>\n",
              "      <th>Kidhome</th>\n",
              "      <th>Teenhome</th>\n",
              "      <th>Recency</th>\n",
              "      <th>MntWines</th>\n",
              "      <th>MntFruits</th>\n",
              "      <th>MntMeatProducts</th>\n",
              "      <th>MntFishProducts</th>\n",
              "      <th>MntSweetProducts</th>\n",
              "      <th>MntGoldProds</th>\n",
              "      <th>NumDealsPurchases</th>\n",
              "      <th>NumWebPurchases</th>\n",
              "      <th>NumCatalogPurchases</th>\n",
              "      <th>NumStorePurchases</th>\n",
              "      <th>NumWebVisitsMonth</th>\n",
              "      <th>AcceptedCmp3</th>\n",
              "      <th>AcceptedCmp4</th>\n",
              "      <th>AcceptedCmp5</th>\n",
              "      <th>AcceptedCmp1</th>\n",
              "      <th>AcceptedCmp2</th>\n",
              "      <th>Response</th>\n",
              "      <th>Complain</th>\n",
              "      <th>Compras Totales</th>\n",
              "    </tr>\n",
              "  </thead>\n",
              "  <tbody>\n",
              "    <tr>\n",
              "      <th>count</th>\n",
              "      <td>10.000000</td>\n",
              "      <td>10.000000</td>\n",
              "      <td>10.0</td>\n",
              "      <td>10.000000</td>\n",
              "      <td>10.000000</td>\n",
              "      <td>10.000000</td>\n",
              "      <td>10.000000</td>\n",
              "      <td>10.000000</td>\n",
              "      <td>10.000000</td>\n",
              "      <td>10.000000</td>\n",
              "      <td>10.000000</td>\n",
              "      <td>10.000000</td>\n",
              "      <td>10.000000</td>\n",
              "      <td>10.00000</td>\n",
              "      <td>10.000000</td>\n",
              "      <td>10.000000</td>\n",
              "      <td>10.000000</td>\n",
              "      <td>10.000000</td>\n",
              "      <td>10.0</td>\n",
              "      <td>10.0</td>\n",
              "      <td>10.0</td>\n",
              "      <td>10.0</td>\n",
              "      <td>10.0</td>\n",
              "      <td>10.0</td>\n",
              "    </tr>\n",
              "    <tr>\n",
              "      <th>mean</th>\n",
              "      <td>4547.100000</td>\n",
              "      <td>1967.900000</td>\n",
              "      <td>0.0</td>\n",
              "      <td>0.200000</td>\n",
              "      <td>44.600000</td>\n",
              "      <td>946.800000</td>\n",
              "      <td>40.000000</td>\n",
              "      <td>362.200000</td>\n",
              "      <td>47.700000</td>\n",
              "      <td>58.100000</td>\n",
              "      <td>59.200000</td>\n",
              "      <td>0.700000</td>\n",
              "      <td>5.400000</td>\n",
              "      <td>6.90000</td>\n",
              "      <td>8.000000</td>\n",
              "      <td>3.800000</td>\n",
              "      <td>0.300000</td>\n",
              "      <td>0.700000</td>\n",
              "      <td>1.0</td>\n",
              "      <td>1.0</td>\n",
              "      <td>1.0</td>\n",
              "      <td>1.0</td>\n",
              "      <td>0.0</td>\n",
              "      <td>5.0</td>\n",
              "    </tr>\n",
              "    <tr>\n",
              "      <th>std</th>\n",
              "      <td>2991.424352</td>\n",
              "      <td>13.706851</td>\n",
              "      <td>0.0</td>\n",
              "      <td>0.421637</td>\n",
              "      <td>35.581518</td>\n",
              "      <td>561.007982</td>\n",
              "      <td>41.231056</td>\n",
              "      <td>271.699916</td>\n",
              "      <td>33.035503</td>\n",
              "      <td>50.669846</td>\n",
              "      <td>40.325895</td>\n",
              "      <td>0.483046</td>\n",
              "      <td>2.674987</td>\n",
              "      <td>2.84605</td>\n",
              "      <td>3.527668</td>\n",
              "      <td>1.988858</td>\n",
              "      <td>0.483046</td>\n",
              "      <td>0.483046</td>\n",
              "      <td>0.0</td>\n",
              "      <td>0.0</td>\n",
              "      <td>0.0</td>\n",
              "      <td>0.0</td>\n",
              "      <td>0.0</td>\n",
              "      <td>0.0</td>\n",
              "    </tr>\n",
              "    <tr>\n",
              "      <th>min</th>\n",
              "      <td>477.000000</td>\n",
              "      <td>1954.000000</td>\n",
              "      <td>0.0</td>\n",
              "      <td>0.000000</td>\n",
              "      <td>1.000000</td>\n",
              "      <td>152.000000</td>\n",
              "      <td>0.000000</td>\n",
              "      <td>69.000000</td>\n",
              "      <td>0.000000</td>\n",
              "      <td>0.000000</td>\n",
              "      <td>16.000000</td>\n",
              "      <td>0.000000</td>\n",
              "      <td>2.000000</td>\n",
              "      <td>3.00000</td>\n",
              "      <td>4.000000</td>\n",
              "      <td>1.000000</td>\n",
              "      <td>0.000000</td>\n",
              "      <td>0.000000</td>\n",
              "      <td>1.0</td>\n",
              "      <td>1.0</td>\n",
              "      <td>1.0</td>\n",
              "      <td>1.0</td>\n",
              "      <td>0.0</td>\n",
              "      <td>5.0</td>\n",
              "    </tr>\n",
              "    <tr>\n",
              "      <th>25%</th>\n",
              "      <td>3147.000000</td>\n",
              "      <td>1958.250000</td>\n",
              "      <td>0.0</td>\n",
              "      <td>0.000000</td>\n",
              "      <td>10.250000</td>\n",
              "      <td>391.000000</td>\n",
              "      <td>19.500000</td>\n",
              "      <td>161.000000</td>\n",
              "      <td>34.750000</td>\n",
              "      <td>22.000000</td>\n",
              "      <td>33.000000</td>\n",
              "      <td>0.250000</td>\n",
              "      <td>4.000000</td>\n",
              "      <td>4.00000</td>\n",
              "      <td>4.500000</td>\n",
              "      <td>2.250000</td>\n",
              "      <td>0.000000</td>\n",
              "      <td>0.250000</td>\n",
              "      <td>1.0</td>\n",
              "      <td>1.0</td>\n",
              "      <td>1.0</td>\n",
              "      <td>1.0</td>\n",
              "      <td>0.0</td>\n",
              "      <td>5.0</td>\n",
              "    </tr>\n",
              "    <tr>\n",
              "      <th>50%</th>\n",
              "      <td>3622.500000</td>\n",
              "      <td>1960.000000</td>\n",
              "      <td>0.0</td>\n",
              "      <td>0.000000</td>\n",
              "      <td>46.000000</td>\n",
              "      <td>1161.000000</td>\n",
              "      <td>27.500000</td>\n",
              "      <td>299.000000</td>\n",
              "      <td>47.500000</td>\n",
              "      <td>55.500000</td>\n",
              "      <td>48.500000</td>\n",
              "      <td>1.000000</td>\n",
              "      <td>5.000000</td>\n",
              "      <td>8.00000</td>\n",
              "      <td>8.000000</td>\n",
              "      <td>4.000000</td>\n",
              "      <td>0.000000</td>\n",
              "      <td>1.000000</td>\n",
              "      <td>1.0</td>\n",
              "      <td>1.0</td>\n",
              "      <td>1.0</td>\n",
              "      <td>1.0</td>\n",
              "      <td>0.0</td>\n",
              "      <td>5.0</td>\n",
              "    </tr>\n",
              "    <tr>\n",
              "      <th>75%</th>\n",
              "      <td>5702.500000</td>\n",
              "      <td>1980.000000</td>\n",
              "      <td>0.0</td>\n",
              "      <td>0.000000</td>\n",
              "      <td>75.250000</td>\n",
              "      <td>1317.000000</td>\n",
              "      <td>38.000000</td>\n",
              "      <td>420.250000</td>\n",
              "      <td>65.750000</td>\n",
              "      <td>66.000000</td>\n",
              "      <td>74.750000</td>\n",
              "      <td>1.000000</td>\n",
              "      <td>6.750000</td>\n",
              "      <td>9.00000</td>\n",
              "      <td>10.000000</td>\n",
              "      <td>5.750000</td>\n",
              "      <td>0.750000</td>\n",
              "      <td>1.000000</td>\n",
              "      <td>1.0</td>\n",
              "      <td>1.0</td>\n",
              "      <td>1.0</td>\n",
              "      <td>1.0</td>\n",
              "      <td>0.0</td>\n",
              "      <td>5.0</td>\n",
              "    </tr>\n",
              "    <tr>\n",
              "      <th>max</th>\n",
              "      <td>10089.000000</td>\n",
              "      <td>1990.000000</td>\n",
              "      <td>0.0</td>\n",
              "      <td>1.000000</td>\n",
              "      <td>94.000000</td>\n",
              "      <td>1492.000000</td>\n",
              "      <td>148.000000</td>\n",
              "      <td>835.000000</td>\n",
              "      <td>106.000000</td>\n",
              "      <td>172.000000</td>\n",
              "      <td>148.000000</td>\n",
              "      <td>1.000000</td>\n",
              "      <td>10.000000</td>\n",
              "      <td>10.00000</td>\n",
              "      <td>13.000000</td>\n",
              "      <td>6.000000</td>\n",
              "      <td>1.000000</td>\n",
              "      <td>1.000000</td>\n",
              "      <td>1.0</td>\n",
              "      <td>1.0</td>\n",
              "      <td>1.0</td>\n",
              "      <td>1.0</td>\n",
              "      <td>0.0</td>\n",
              "      <td>5.0</td>\n",
              "    </tr>\n",
              "  </tbody>\n",
              "</table>\n",
              "</div>"
            ],
            "text/plain": [
              "                 ID   Year_Birth  Kidhome  ...  Response  Complain  Compras Totales\n",
              "count     10.000000    10.000000     10.0  ...      10.0      10.0             10.0\n",
              "mean    4547.100000  1967.900000      0.0  ...       1.0       0.0              5.0\n",
              "std     2991.424352    13.706851      0.0  ...       0.0       0.0              0.0\n",
              "min      477.000000  1954.000000      0.0  ...       1.0       0.0              5.0\n",
              "25%     3147.000000  1958.250000      0.0  ...       1.0       0.0              5.0\n",
              "50%     3622.500000  1960.000000      0.0  ...       1.0       0.0              5.0\n",
              "75%     5702.500000  1980.000000      0.0  ...       1.0       0.0              5.0\n",
              "max    10089.000000  1990.000000      0.0  ...       1.0       0.0              5.0\n",
              "\n",
              "[8 rows x 24 columns]"
            ]
          },
          "execution_count": 37,
          "metadata": {
            "tags": []
          },
          "output_type": "execute_result"
        }
      ],
      "source": [
        "cinco_compras.describe()"
      ]
    },
    {
      "attachments": {},
      "cell_type": "markdown",
      "metadata": {
        "id": "awiB8wVpS9rh"
      },
      "source": [
        "The customers who made a purchase for each campaign do not have children at home, are mostly graduates, have no complaints, and have an average of 3.8 visits to the website."
      ]
    },
    {
      "cell_type": "markdown",
      "metadata": {
        "id": "2i0oqkqsAQvW"
      },
      "source": [
        "# Decision Tree"
      ]
    },
    {
      "cell_type": "code",
      "execution_count": null,
      "metadata": {},
      "outputs": [],
      "source": [
        "pip install scikit-learn "
      ]
    },
    {
      "cell_type": "code",
      "execution_count": null,
      "metadata": {},
      "outputs": [],
      "source": [
        "pip install graphviz"
      ]
    },
    {
      "cell_type": "code",
      "execution_count": 48,
      "metadata": {
        "id": "-RNXcFy5L9l1"
      },
      "outputs": [],
      "source": [
        "from sklearn.tree import DecisionTreeClassifier\n",
        "from sklearn.model_selection import train_test_split\n",
        "from sklearn.tree import export_graphviz\n",
        "import graphviz"
      ]
    },
    {
      "attachments": {},
      "cell_type": "markdown",
      "metadata": {
        "id": "4-aHMAeLFaan"
      },
      "source": [
        "We are going to create a new column called \"Engaged\" in which we will locate the customers who did buy from any of the marketing campaigns."
      ]
    },
    {
      "cell_type": "code",
      "execution_count": 49,
      "metadata": {
        "id": "yJjd9gtrKB6t"
      },
      "outputs": [],
      "source": [
        "df[\"Engaged\"] = df[\"Compras Totales\"].apply(lambda x: 0 if x == 0 else 1)"
      ]
    },
    {
      "cell_type": "code",
      "execution_count": 50,
      "metadata": {
        "colab": {
          "base_uri": "https://localhost:8080/",
          "height": 241
        },
        "id": "79Hvyf8OJqfT",
        "outputId": "a0e6d0a1-4274-4ca7-c284-521702eef215"
      },
      "outputs": [
        {
          "data": {
            "text/html": [
              "<div>\n",
              "<style scoped>\n",
              "    .dataframe tbody tr th:only-of-type {\n",
              "        vertical-align: middle;\n",
              "    }\n",
              "\n",
              "    .dataframe tbody tr th {\n",
              "        vertical-align: top;\n",
              "    }\n",
              "\n",
              "    .dataframe thead th {\n",
              "        text-align: right;\n",
              "    }\n",
              "</style>\n",
              "<table border=\"1\" class=\"dataframe\">\n",
              "  <thead>\n",
              "    <tr style=\"text-align: right;\">\n",
              "      <th></th>\n",
              "      <th>ID</th>\n",
              "      <th>Year_Birth</th>\n",
              "      <th>Education</th>\n",
              "      <th>Marital_Status</th>\n",
              "      <th>Income</th>\n",
              "      <th>Kidhome</th>\n",
              "      <th>Teenhome</th>\n",
              "      <th>Dt_Customer</th>\n",
              "      <th>Recency</th>\n",
              "      <th>MntWines</th>\n",
              "      <th>...</th>\n",
              "      <th>AcceptedCmp3</th>\n",
              "      <th>AcceptedCmp4</th>\n",
              "      <th>AcceptedCmp5</th>\n",
              "      <th>AcceptedCmp1</th>\n",
              "      <th>AcceptedCmp2</th>\n",
              "      <th>Response</th>\n",
              "      <th>Complain</th>\n",
              "      <th>Country</th>\n",
              "      <th>Compras Totales</th>\n",
              "      <th>Engaged</th>\n",
              "    </tr>\n",
              "  </thead>\n",
              "  <tbody>\n",
              "    <tr>\n",
              "      <th>0</th>\n",
              "      <td>1826</td>\n",
              "      <td>1970</td>\n",
              "      <td>Graduation</td>\n",
              "      <td>Divorced</td>\n",
              "      <td>$84,835.00</td>\n",
              "      <td>0</td>\n",
              "      <td>0</td>\n",
              "      <td>6/16/14</td>\n",
              "      <td>0</td>\n",
              "      <td>189</td>\n",
              "      <td>...</td>\n",
              "      <td>0</td>\n",
              "      <td>0</td>\n",
              "      <td>0</td>\n",
              "      <td>0</td>\n",
              "      <td>0</td>\n",
              "      <td>1</td>\n",
              "      <td>0</td>\n",
              "      <td>SP</td>\n",
              "      <td>1</td>\n",
              "      <td>1</td>\n",
              "    </tr>\n",
              "    <tr>\n",
              "      <th>1</th>\n",
              "      <td>1</td>\n",
              "      <td>1961</td>\n",
              "      <td>Graduation</td>\n",
              "      <td>Single</td>\n",
              "      <td>$57,091.00</td>\n",
              "      <td>0</td>\n",
              "      <td>0</td>\n",
              "      <td>6/15/14</td>\n",
              "      <td>0</td>\n",
              "      <td>464</td>\n",
              "      <td>...</td>\n",
              "      <td>0</td>\n",
              "      <td>0</td>\n",
              "      <td>0</td>\n",
              "      <td>0</td>\n",
              "      <td>1</td>\n",
              "      <td>1</td>\n",
              "      <td>0</td>\n",
              "      <td>CA</td>\n",
              "      <td>2</td>\n",
              "      <td>1</td>\n",
              "    </tr>\n",
              "    <tr>\n",
              "      <th>2</th>\n",
              "      <td>10476</td>\n",
              "      <td>1958</td>\n",
              "      <td>Graduation</td>\n",
              "      <td>Married</td>\n",
              "      <td>$67,267.00</td>\n",
              "      <td>0</td>\n",
              "      <td>1</td>\n",
              "      <td>5/13/14</td>\n",
              "      <td>0</td>\n",
              "      <td>134</td>\n",
              "      <td>...</td>\n",
              "      <td>0</td>\n",
              "      <td>0</td>\n",
              "      <td>0</td>\n",
              "      <td>0</td>\n",
              "      <td>0</td>\n",
              "      <td>0</td>\n",
              "      <td>0</td>\n",
              "      <td>US</td>\n",
              "      <td>0</td>\n",
              "      <td>0</td>\n",
              "    </tr>\n",
              "    <tr>\n",
              "      <th>3</th>\n",
              "      <td>1386</td>\n",
              "      <td>1967</td>\n",
              "      <td>Graduation</td>\n",
              "      <td>Together</td>\n",
              "      <td>$32,474.00</td>\n",
              "      <td>1</td>\n",
              "      <td>1</td>\n",
              "      <td>05/11/2014</td>\n",
              "      <td>0</td>\n",
              "      <td>10</td>\n",
              "      <td>...</td>\n",
              "      <td>0</td>\n",
              "      <td>0</td>\n",
              "      <td>0</td>\n",
              "      <td>0</td>\n",
              "      <td>0</td>\n",
              "      <td>0</td>\n",
              "      <td>0</td>\n",
              "      <td>AUS</td>\n",
              "      <td>0</td>\n",
              "      <td>0</td>\n",
              "    </tr>\n",
              "    <tr>\n",
              "      <th>4</th>\n",
              "      <td>5371</td>\n",
              "      <td>1989</td>\n",
              "      <td>Graduation</td>\n",
              "      <td>Single</td>\n",
              "      <td>$21,474.00</td>\n",
              "      <td>1</td>\n",
              "      <td>0</td>\n",
              "      <td>04/08/2014</td>\n",
              "      <td>0</td>\n",
              "      <td>6</td>\n",
              "      <td>...</td>\n",
              "      <td>1</td>\n",
              "      <td>0</td>\n",
              "      <td>0</td>\n",
              "      <td>0</td>\n",
              "      <td>0</td>\n",
              "      <td>1</td>\n",
              "      <td>0</td>\n",
              "      <td>SP</td>\n",
              "      <td>2</td>\n",
              "      <td>1</td>\n",
              "    </tr>\n",
              "  </tbody>\n",
              "</table>\n",
              "<p>5 rows × 30 columns</p>\n",
              "</div>"
            ],
            "text/plain": [
              "      ID  Year_Birth   Education Marital_Status     Income   Kidhome  \\\n",
              "0   1826        1970  Graduation       Divorced  $84,835.00        0   \n",
              "1      1        1961  Graduation         Single  $57,091.00        0   \n",
              "2  10476        1958  Graduation        Married  $67,267.00        0   \n",
              "3   1386        1967  Graduation       Together  $32,474.00        1   \n",
              "4   5371        1989  Graduation         Single  $21,474.00        1   \n",
              "\n",
              "   Teenhome Dt_Customer  Recency  MntWines  ...  AcceptedCmp3  AcceptedCmp4  \\\n",
              "0         0     6/16/14        0       189  ...             0             0   \n",
              "1         0     6/15/14        0       464  ...             0             0   \n",
              "2         1     5/13/14        0       134  ...             0             0   \n",
              "3         1  05/11/2014        0        10  ...             0             0   \n",
              "4         0  04/08/2014        0         6  ...             1             0   \n",
              "\n",
              "   AcceptedCmp5  AcceptedCmp1  AcceptedCmp2  Response  Complain  Country  \\\n",
              "0             0             0             0         1         0       SP   \n",
              "1             0             0             1         1         0       CA   \n",
              "2             0             0             0         0         0       US   \n",
              "3             0             0             0         0         0      AUS   \n",
              "4             0             0             0         1         0       SP   \n",
              "\n",
              "   Compras Totales  Engaged  \n",
              "0                1        1  \n",
              "1                2        1  \n",
              "2                0        0  \n",
              "3                0        0  \n",
              "4                2        1  \n",
              "\n",
              "[5 rows x 30 columns]"
            ]
          },
          "execution_count": 50,
          "metadata": {},
          "output_type": "execute_result"
        }
      ],
      "source": [
        "df.head()"
      ]
    },
    {
      "cell_type": "code",
      "execution_count": 51,
      "metadata": {
        "colab": {
          "base_uri": "https://localhost:8080/"
        },
        "id": "71TAuqNEF8cN",
        "outputId": "2c926122-fca3-4d67-df62-8d2874be92e8"
      },
      "outputs": [
        {
          "data": {
            "text/plain": [
              "array(['ID', 'Year_Birth', 'Education', 'Marital_Status', ' Income ',\n",
              "       'Kidhome', 'Teenhome', 'Dt_Customer', 'Recency', 'MntWines',\n",
              "       'MntFruits', 'MntMeatProducts', 'MntFishProducts',\n",
              "       'MntSweetProducts', 'MntGoldProds', 'NumDealsPurchases',\n",
              "       'NumWebPurchases', 'NumCatalogPurchases', 'NumStorePurchases',\n",
              "       'NumWebVisitsMonth', 'AcceptedCmp3', 'AcceptedCmp4',\n",
              "       'AcceptedCmp5', 'AcceptedCmp1', 'AcceptedCmp2', 'Response',\n",
              "       'Complain', 'Country', 'Compras Totales', 'Engaged'], dtype=object)"
            ]
          },
          "execution_count": 51,
          "metadata": {},
          "output_type": "execute_result"
        }
      ],
      "source": [
        "df.columns.values"
      ]
    },
    {
      "cell_type": "code",
      "execution_count": 52,
      "metadata": {
        "colab": {
          "base_uri": "https://localhost:8080/",
          "height": 334
        },
        "id": "G21XyvqeGJjo",
        "outputId": "c80f27a3-2726-437a-ec7d-76865fb557a4"
      },
      "outputs": [
        {
          "data": {
            "text/html": [
              "<div>\n",
              "<style scoped>\n",
              "    .dataframe tbody tr th:only-of-type {\n",
              "        vertical-align: middle;\n",
              "    }\n",
              "\n",
              "    .dataframe tbody tr th {\n",
              "        vertical-align: top;\n",
              "    }\n",
              "\n",
              "    .dataframe thead th {\n",
              "        text-align: right;\n",
              "    }\n",
              "</style>\n",
              "<table border=\"1\" class=\"dataframe\">\n",
              "  <thead>\n",
              "    <tr style=\"text-align: right;\">\n",
              "      <th></th>\n",
              "      <th>ID</th>\n",
              "      <th>Year_Birth</th>\n",
              "      <th>Kidhome</th>\n",
              "      <th>Teenhome</th>\n",
              "      <th>Recency</th>\n",
              "      <th>MntWines</th>\n",
              "      <th>MntFruits</th>\n",
              "      <th>MntMeatProducts</th>\n",
              "      <th>MntFishProducts</th>\n",
              "      <th>MntSweetProducts</th>\n",
              "      <th>...</th>\n",
              "      <th>NumWebVisitsMonth</th>\n",
              "      <th>AcceptedCmp3</th>\n",
              "      <th>AcceptedCmp4</th>\n",
              "      <th>AcceptedCmp5</th>\n",
              "      <th>AcceptedCmp1</th>\n",
              "      <th>AcceptedCmp2</th>\n",
              "      <th>Response</th>\n",
              "      <th>Complain</th>\n",
              "      <th>Compras Totales</th>\n",
              "      <th>Engaged</th>\n",
              "    </tr>\n",
              "  </thead>\n",
              "  <tbody>\n",
              "    <tr>\n",
              "      <th>count</th>\n",
              "      <td>2240.000000</td>\n",
              "      <td>2240.000000</td>\n",
              "      <td>2240.000000</td>\n",
              "      <td>2240.000000</td>\n",
              "      <td>2240.000000</td>\n",
              "      <td>2240.000000</td>\n",
              "      <td>2240.000000</td>\n",
              "      <td>2240.000000</td>\n",
              "      <td>2240.000000</td>\n",
              "      <td>2240.000000</td>\n",
              "      <td>...</td>\n",
              "      <td>2240.000000</td>\n",
              "      <td>2240.000000</td>\n",
              "      <td>2240.000000</td>\n",
              "      <td>2240.000000</td>\n",
              "      <td>2240.000000</td>\n",
              "      <td>2240.000000</td>\n",
              "      <td>2240.000000</td>\n",
              "      <td>2240.000000</td>\n",
              "      <td>2240.000000</td>\n",
              "      <td>2240.000000</td>\n",
              "    </tr>\n",
              "    <tr>\n",
              "      <th>mean</th>\n",
              "      <td>5592.159821</td>\n",
              "      <td>1968.805804</td>\n",
              "      <td>0.444196</td>\n",
              "      <td>0.506250</td>\n",
              "      <td>49.109375</td>\n",
              "      <td>303.935714</td>\n",
              "      <td>26.302232</td>\n",
              "      <td>166.950000</td>\n",
              "      <td>37.525446</td>\n",
              "      <td>27.062946</td>\n",
              "      <td>...</td>\n",
              "      <td>5.316518</td>\n",
              "      <td>0.072768</td>\n",
              "      <td>0.074554</td>\n",
              "      <td>0.072768</td>\n",
              "      <td>0.064286</td>\n",
              "      <td>0.013393</td>\n",
              "      <td>0.149107</td>\n",
              "      <td>0.009375</td>\n",
              "      <td>0.446875</td>\n",
              "      <td>0.271875</td>\n",
              "    </tr>\n",
              "    <tr>\n",
              "      <th>std</th>\n",
              "      <td>3246.662198</td>\n",
              "      <td>11.984069</td>\n",
              "      <td>0.538398</td>\n",
              "      <td>0.544538</td>\n",
              "      <td>28.962453</td>\n",
              "      <td>336.597393</td>\n",
              "      <td>39.773434</td>\n",
              "      <td>225.715373</td>\n",
              "      <td>54.628979</td>\n",
              "      <td>41.280498</td>\n",
              "      <td>...</td>\n",
              "      <td>2.426645</td>\n",
              "      <td>0.259813</td>\n",
              "      <td>0.262728</td>\n",
              "      <td>0.259813</td>\n",
              "      <td>0.245316</td>\n",
              "      <td>0.114976</td>\n",
              "      <td>0.356274</td>\n",
              "      <td>0.096391</td>\n",
              "      <td>0.890543</td>\n",
              "      <td>0.445025</td>\n",
              "    </tr>\n",
              "    <tr>\n",
              "      <th>min</th>\n",
              "      <td>0.000000</td>\n",
              "      <td>1893.000000</td>\n",
              "      <td>0.000000</td>\n",
              "      <td>0.000000</td>\n",
              "      <td>0.000000</td>\n",
              "      <td>0.000000</td>\n",
              "      <td>0.000000</td>\n",
              "      <td>0.000000</td>\n",
              "      <td>0.000000</td>\n",
              "      <td>0.000000</td>\n",
              "      <td>...</td>\n",
              "      <td>0.000000</td>\n",
              "      <td>0.000000</td>\n",
              "      <td>0.000000</td>\n",
              "      <td>0.000000</td>\n",
              "      <td>0.000000</td>\n",
              "      <td>0.000000</td>\n",
              "      <td>0.000000</td>\n",
              "      <td>0.000000</td>\n",
              "      <td>0.000000</td>\n",
              "      <td>0.000000</td>\n",
              "    </tr>\n",
              "    <tr>\n",
              "      <th>25%</th>\n",
              "      <td>2828.250000</td>\n",
              "      <td>1959.000000</td>\n",
              "      <td>0.000000</td>\n",
              "      <td>0.000000</td>\n",
              "      <td>24.000000</td>\n",
              "      <td>23.750000</td>\n",
              "      <td>1.000000</td>\n",
              "      <td>16.000000</td>\n",
              "      <td>3.000000</td>\n",
              "      <td>1.000000</td>\n",
              "      <td>...</td>\n",
              "      <td>3.000000</td>\n",
              "      <td>0.000000</td>\n",
              "      <td>0.000000</td>\n",
              "      <td>0.000000</td>\n",
              "      <td>0.000000</td>\n",
              "      <td>0.000000</td>\n",
              "      <td>0.000000</td>\n",
              "      <td>0.000000</td>\n",
              "      <td>0.000000</td>\n",
              "      <td>0.000000</td>\n",
              "    </tr>\n",
              "    <tr>\n",
              "      <th>50%</th>\n",
              "      <td>5458.500000</td>\n",
              "      <td>1970.000000</td>\n",
              "      <td>0.000000</td>\n",
              "      <td>0.000000</td>\n",
              "      <td>49.000000</td>\n",
              "      <td>173.500000</td>\n",
              "      <td>8.000000</td>\n",
              "      <td>67.000000</td>\n",
              "      <td>12.000000</td>\n",
              "      <td>8.000000</td>\n",
              "      <td>...</td>\n",
              "      <td>6.000000</td>\n",
              "      <td>0.000000</td>\n",
              "      <td>0.000000</td>\n",
              "      <td>0.000000</td>\n",
              "      <td>0.000000</td>\n",
              "      <td>0.000000</td>\n",
              "      <td>0.000000</td>\n",
              "      <td>0.000000</td>\n",
              "      <td>0.000000</td>\n",
              "      <td>0.000000</td>\n",
              "    </tr>\n",
              "    <tr>\n",
              "      <th>75%</th>\n",
              "      <td>8427.750000</td>\n",
              "      <td>1977.000000</td>\n",
              "      <td>1.000000</td>\n",
              "      <td>1.000000</td>\n",
              "      <td>74.000000</td>\n",
              "      <td>504.250000</td>\n",
              "      <td>33.000000</td>\n",
              "      <td>232.000000</td>\n",
              "      <td>50.000000</td>\n",
              "      <td>33.000000</td>\n",
              "      <td>...</td>\n",
              "      <td>7.000000</td>\n",
              "      <td>0.000000</td>\n",
              "      <td>0.000000</td>\n",
              "      <td>0.000000</td>\n",
              "      <td>0.000000</td>\n",
              "      <td>0.000000</td>\n",
              "      <td>0.000000</td>\n",
              "      <td>0.000000</td>\n",
              "      <td>1.000000</td>\n",
              "      <td>1.000000</td>\n",
              "    </tr>\n",
              "    <tr>\n",
              "      <th>max</th>\n",
              "      <td>11191.000000</td>\n",
              "      <td>1996.000000</td>\n",
              "      <td>2.000000</td>\n",
              "      <td>2.000000</td>\n",
              "      <td>99.000000</td>\n",
              "      <td>1493.000000</td>\n",
              "      <td>199.000000</td>\n",
              "      <td>1725.000000</td>\n",
              "      <td>259.000000</td>\n",
              "      <td>263.000000</td>\n",
              "      <td>...</td>\n",
              "      <td>20.000000</td>\n",
              "      <td>1.000000</td>\n",
              "      <td>1.000000</td>\n",
              "      <td>1.000000</td>\n",
              "      <td>1.000000</td>\n",
              "      <td>1.000000</td>\n",
              "      <td>1.000000</td>\n",
              "      <td>1.000000</td>\n",
              "      <td>5.000000</td>\n",
              "      <td>1.000000</td>\n",
              "    </tr>\n",
              "  </tbody>\n",
              "</table>\n",
              "<p>8 rows × 25 columns</p>\n",
              "</div>"
            ],
            "text/plain": [
              "                 ID   Year_Birth      Kidhome     Teenhome      Recency  \\\n",
              "count   2240.000000  2240.000000  2240.000000  2240.000000  2240.000000   \n",
              "mean    5592.159821  1968.805804     0.444196     0.506250    49.109375   \n",
              "std     3246.662198    11.984069     0.538398     0.544538    28.962453   \n",
              "min        0.000000  1893.000000     0.000000     0.000000     0.000000   \n",
              "25%     2828.250000  1959.000000     0.000000     0.000000    24.000000   \n",
              "50%     5458.500000  1970.000000     0.000000     0.000000    49.000000   \n",
              "75%     8427.750000  1977.000000     1.000000     1.000000    74.000000   \n",
              "max    11191.000000  1996.000000     2.000000     2.000000    99.000000   \n",
              "\n",
              "          MntWines    MntFruits  MntMeatProducts  MntFishProducts  \\\n",
              "count  2240.000000  2240.000000      2240.000000      2240.000000   \n",
              "mean    303.935714    26.302232       166.950000        37.525446   \n",
              "std     336.597393    39.773434       225.715373        54.628979   \n",
              "min       0.000000     0.000000         0.000000         0.000000   \n",
              "25%      23.750000     1.000000        16.000000         3.000000   \n",
              "50%     173.500000     8.000000        67.000000        12.000000   \n",
              "75%     504.250000    33.000000       232.000000        50.000000   \n",
              "max    1493.000000   199.000000      1725.000000       259.000000   \n",
              "\n",
              "       MntSweetProducts  ...  NumWebVisitsMonth  AcceptedCmp3  AcceptedCmp4  \\\n",
              "count       2240.000000  ...        2240.000000   2240.000000   2240.000000   \n",
              "mean          27.062946  ...           5.316518      0.072768      0.074554   \n",
              "std           41.280498  ...           2.426645      0.259813      0.262728   \n",
              "min            0.000000  ...           0.000000      0.000000      0.000000   \n",
              "25%            1.000000  ...           3.000000      0.000000      0.000000   \n",
              "50%            8.000000  ...           6.000000      0.000000      0.000000   \n",
              "75%           33.000000  ...           7.000000      0.000000      0.000000   \n",
              "max          263.000000  ...          20.000000      1.000000      1.000000   \n",
              "\n",
              "       AcceptedCmp5  AcceptedCmp1  AcceptedCmp2     Response     Complain  \\\n",
              "count   2240.000000   2240.000000   2240.000000  2240.000000  2240.000000   \n",
              "mean       0.072768      0.064286      0.013393     0.149107     0.009375   \n",
              "std        0.259813      0.245316      0.114976     0.356274     0.096391   \n",
              "min        0.000000      0.000000      0.000000     0.000000     0.000000   \n",
              "25%        0.000000      0.000000      0.000000     0.000000     0.000000   \n",
              "50%        0.000000      0.000000      0.000000     0.000000     0.000000   \n",
              "75%        0.000000      0.000000      0.000000     0.000000     0.000000   \n",
              "max        1.000000      1.000000      1.000000     1.000000     1.000000   \n",
              "\n",
              "       Compras Totales      Engaged  \n",
              "count      2240.000000  2240.000000  \n",
              "mean          0.446875     0.271875  \n",
              "std           0.890543     0.445025  \n",
              "min           0.000000     0.000000  \n",
              "25%           0.000000     0.000000  \n",
              "50%           0.000000     0.000000  \n",
              "75%           1.000000     1.000000  \n",
              "max           5.000000     1.000000  \n",
              "\n",
              "[8 rows x 25 columns]"
            ]
          },
          "execution_count": 52,
          "metadata": {},
          "output_type": "execute_result"
        }
      ],
      "source": [
        "df.describe()"
      ]
    },
    {
      "cell_type": "code",
      "execution_count": 53,
      "metadata": {
        "id": "i-H20ZhXHHnQ"
      },
      "outputs": [],
      "source": [
        "continuous_vars = [\"Kidhome\", \"Teenhome\", \"Recency\", \"MntWines\",\n",
        "                  \"MntFruits\", \"MntMeatProducts\", \"MntFishProducts\", \"MntSweetProducts\", \"MntGoldProds\",\n",
        "                  \"NumDealsPurchases\", \"NumWebPurchases\", \"NumCatalogPurchases\", \"NumStorePurchases\",\n",
        "                  \"NumWebVisitsMonth\",\"Complain\"]"
      ]
    },
    {
      "attachments": {},
      "cell_type": "markdown",
      "metadata": {
        "id": "XBDeavmhF03z"
      },
      "source": [
        "With the following lines of code we are going to determine which are the variables with the greatest predictive power."
      ]
    },
    {
      "cell_type": "code",
      "execution_count": null,
      "metadata": {},
      "outputs": [],
      "source": [
        "pip install statsmodels"
      ]
    },
    {
      "cell_type": "code",
      "execution_count": 57,
      "metadata": {
        "colab": {
          "base_uri": "https://localhost:8080/"
        },
        "id": "Jrb0uUU1H6d2",
        "outputId": "0fd275dc-5759-4664-f9f2-f7c06d972d53"
      },
      "outputs": [],
      "source": [
        "import statsmodels.api as sm"
      ]
    },
    {
      "cell_type": "code",
      "execution_count": 58,
      "metadata": {
        "id": "Bbk_0emsIElU"
      },
      "outputs": [],
      "source": [
        "logit = sm.Logit(df[\"Engaged\"], df[continuous_vars])"
      ]
    },
    {
      "cell_type": "code",
      "execution_count": 59,
      "metadata": {
        "colab": {
          "base_uri": "https://localhost:8080/"
        },
        "id": "WgI0Ia4eH-hT",
        "outputId": "251ec203-e4e2-4ec6-9e51-d302a73aefbc"
      },
      "outputs": [
        {
          "name": "stdout",
          "output_type": "stream",
          "text": [
            "Optimization terminated successfully.\n",
            "         Current function value: 0.471580\n",
            "         Iterations 6\n"
          ]
        }
      ],
      "source": [
        "logit_fit = logit.fit()"
      ]
    },
    {
      "cell_type": "code",
      "execution_count": 60,
      "metadata": {
        "colab": {
          "base_uri": "https://localhost:8080/",
          "height": 521
        },
        "id": "Q9wxbvmxKxz2",
        "outputId": "2839f811-2365-453b-8154-2acd51e8b09d"
      },
      "outputs": [
        {
          "data": {
            "text/html": [
              "<table class=\"simpletable\">\n",
              "<caption>Logit Regression Results</caption>\n",
              "<tr>\n",
              "  <th>Dep. Variable:</th>        <td>Engaged</td>     <th>  No. Observations:  </th>  <td>  2240</td>  \n",
              "</tr>\n",
              "<tr>\n",
              "  <th>Model:</th>                 <td>Logit</td>      <th>  Df Residuals:      </th>  <td>  2225</td>  \n",
              "</tr>\n",
              "<tr>\n",
              "  <th>Method:</th>                 <td>MLE</td>       <th>  Df Model:          </th>  <td>    14</td>  \n",
              "</tr>\n",
              "<tr>\n",
              "  <th>Date:</th>            <td>Fri, 13 Jan 2023</td> <th>  Pseudo R-squ.:     </th>  <td>0.1940</td>  \n",
              "</tr>\n",
              "<tr>\n",
              "  <th>Time:</th>                <td>13:31:07</td>     <th>  Log-Likelihood:    </th> <td> -1056.3</td> \n",
              "</tr>\n",
              "<tr>\n",
              "  <th>converged:</th>             <td>True</td>       <th>  LL-Null:           </th> <td> -1310.7</td> \n",
              "</tr>\n",
              "<tr>\n",
              "  <th>Covariance Type:</th>     <td>nonrobust</td>    <th>  LLR p-value:       </th> <td>1.369e-99</td>\n",
              "</tr>\n",
              "</table>\n",
              "<table class=\"simpletable\">\n",
              "<tr>\n",
              "           <td></td>              <th>coef</th>     <th>std err</th>      <th>z</th>      <th>P>|z|</th>  <th>[0.025</th>    <th>0.975]</th>  \n",
              "</tr>\n",
              "<tr>\n",
              "  <th>Kidhome</th>             <td>   -0.1977</td> <td>    0.133</td> <td>   -1.483</td> <td> 0.138</td> <td>   -0.459</td> <td>    0.064</td>\n",
              "</tr>\n",
              "<tr>\n",
              "  <th>Teenhome</th>            <td>   -0.7590</td> <td>    0.124</td> <td>   -6.131</td> <td> 0.000</td> <td>   -1.002</td> <td>   -0.516</td>\n",
              "</tr>\n",
              "<tr>\n",
              "  <th>Recency</th>             <td>   -0.0150</td> <td>    0.002</td> <td>   -8.204</td> <td> 0.000</td> <td>   -0.019</td> <td>   -0.011</td>\n",
              "</tr>\n",
              "<tr>\n",
              "  <th>MntWines</th>            <td>    0.0036</td> <td>    0.000</td> <td>   13.427</td> <td> 0.000</td> <td>    0.003</td> <td>    0.004</td>\n",
              "</tr>\n",
              "<tr>\n",
              "  <th>MntFruits</th>           <td>   -0.0037</td> <td>    0.002</td> <td>   -2.027</td> <td> 0.043</td> <td>   -0.007</td> <td>   -0.000</td>\n",
              "</tr>\n",
              "<tr>\n",
              "  <th>MntMeatProducts</th>     <td>    0.0007</td> <td>    0.000</td> <td>    1.890</td> <td> 0.059</td> <td>-2.53e-05</td> <td>    0.001</td>\n",
              "</tr>\n",
              "<tr>\n",
              "  <th>MntFishProducts</th>     <td>   -0.0019</td> <td>    0.001</td> <td>   -1.391</td> <td> 0.164</td> <td>   -0.005</td> <td>    0.001</td>\n",
              "</tr>\n",
              "<tr>\n",
              "  <th>MntSweetProducts</th>    <td>    0.0005</td> <td>    0.002</td> <td>    0.315</td> <td> 0.752</td> <td>   -0.003</td> <td>    0.004</td>\n",
              "</tr>\n",
              "<tr>\n",
              "  <th>MntGoldProds</th>        <td>    0.0021</td> <td>    0.001</td> <td>    1.820</td> <td> 0.069</td> <td>   -0.000</td> <td>    0.004</td>\n",
              "</tr>\n",
              "<tr>\n",
              "  <th>NumDealsPurchases</th>   <td>    0.0167</td> <td>    0.035</td> <td>    0.480</td> <td> 0.631</td> <td>   -0.051</td> <td>    0.085</td>\n",
              "</tr>\n",
              "<tr>\n",
              "  <th>NumWebPurchases</th>     <td>    0.0241</td> <td>    0.025</td> <td>    0.976</td> <td> 0.329</td> <td>   -0.024</td> <td>    0.072</td>\n",
              "</tr>\n",
              "<tr>\n",
              "  <th>NumCatalogPurchases</th> <td>    0.0262</td> <td>    0.029</td> <td>    0.911</td> <td> 0.362</td> <td>   -0.030</td> <td>    0.083</td>\n",
              "</tr>\n",
              "<tr>\n",
              "  <th>NumStorePurchases</th>   <td>   -0.2092</td> <td>    0.022</td> <td>   -9.305</td> <td> 0.000</td> <td>   -0.253</td> <td>   -0.165</td>\n",
              "</tr>\n",
              "<tr>\n",
              "  <th>NumWebVisitsMonth</th>   <td>   -0.0112</td> <td>    0.023</td> <td>   -0.496</td> <td> 0.620</td> <td>   -0.055</td> <td>    0.033</td>\n",
              "</tr>\n",
              "<tr>\n",
              "  <th>Complain</th>            <td>   -0.4131</td> <td>    0.664</td> <td>   -0.622</td> <td> 0.534</td> <td>   -1.714</td> <td>    0.888</td>\n",
              "</tr>\n",
              "</table>"
            ],
            "text/plain": [
              "<class 'statsmodels.iolib.summary.Summary'>\n",
              "\"\"\"\n",
              "                           Logit Regression Results                           \n",
              "==============================================================================\n",
              "Dep. Variable:                Engaged   No. Observations:                 2240\n",
              "Model:                          Logit   Df Residuals:                     2225\n",
              "Method:                           MLE   Df Model:                           14\n",
              "Date:                Fri, 13 Jan 2023   Pseudo R-squ.:                  0.1940\n",
              "Time:                        13:31:07   Log-Likelihood:                -1056.3\n",
              "converged:                       True   LL-Null:                       -1310.7\n",
              "Covariance Type:            nonrobust   LLR p-value:                 1.369e-99\n",
              "=======================================================================================\n",
              "                          coef    std err          z      P>|z|      [0.025      0.975]\n",
              "---------------------------------------------------------------------------------------\n",
              "Kidhome                -0.1977      0.133     -1.483      0.138      -0.459       0.064\n",
              "Teenhome               -0.7590      0.124     -6.131      0.000      -1.002      -0.516\n",
              "Recency                -0.0150      0.002     -8.204      0.000      -0.019      -0.011\n",
              "MntWines                0.0036      0.000     13.427      0.000       0.003       0.004\n",
              "MntFruits              -0.0037      0.002     -2.027      0.043      -0.007      -0.000\n",
              "MntMeatProducts         0.0007      0.000      1.890      0.059   -2.53e-05       0.001\n",
              "MntFishProducts        -0.0019      0.001     -1.391      0.164      -0.005       0.001\n",
              "MntSweetProducts        0.0005      0.002      0.315      0.752      -0.003       0.004\n",
              "MntGoldProds            0.0021      0.001      1.820      0.069      -0.000       0.004\n",
              "NumDealsPurchases       0.0167      0.035      0.480      0.631      -0.051       0.085\n",
              "NumWebPurchases         0.0241      0.025      0.976      0.329      -0.024       0.072\n",
              "NumCatalogPurchases     0.0262      0.029      0.911      0.362      -0.030       0.083\n",
              "NumStorePurchases      -0.2092      0.022     -9.305      0.000      -0.253      -0.165\n",
              "NumWebVisitsMonth      -0.0112      0.023     -0.496      0.620      -0.055       0.033\n",
              "Complain               -0.4131      0.664     -0.622      0.534      -1.714       0.888\n",
              "=======================================================================================\n",
              "\"\"\""
            ]
          },
          "execution_count": 60,
          "metadata": {},
          "output_type": "execute_result"
        }
      ],
      "source": [
        "logit_fit.summary()"
      ]
    },
    {
      "attachments": {},
      "cell_type": "markdown",
      "metadata": {
        "id": "5C_mhzybGBAj"
      },
      "source": [
        "The variables with the greatest predictive power and the greatest relationship with the output variable are \"Teenhome\", \"Recency\", \"MntWines\" and \"NumStorePurchases\". These variables were located because they have a P value less than 0.05."
      ]
    },
    {
      "cell_type": "code",
      "execution_count": 62,
      "metadata": {
        "id": "L7Cd4ONFLBMn"
      },
      "outputs": [],
      "source": [
        "variables = [\"Recency\", \"NumStorePurchases\", \"Teenhome\", \"MntWines\"]\n",
        "target = [\"Engaged\"]"
      ]
    },
    {
      "cell_type": "code",
      "execution_count": 63,
      "metadata": {
        "colab": {
          "base_uri": "https://localhost:8080/"
        },
        "id": "SEUaI5YmLlgS",
        "outputId": "1815a979-150c-4cea-dd5e-b21fe36e2213"
      },
      "outputs": [
        {
          "data": {
            "text/plain": [
              "(2240, 5)"
            ]
          },
          "execution_count": 63,
          "metadata": {},
          "output_type": "execute_result"
        }
      ],
      "source": [
        "sample_df = df[variables + target]\n",
        "sample_df.shape"
      ]
    },
    {
      "cell_type": "code",
      "execution_count": 64,
      "metadata": {
        "colab": {
          "base_uri": "https://localhost:8080/"
        },
        "id": "vpzCTvr6LwKP",
        "outputId": "f1288ec5-77c5-43f1-e229-5cec2b55d795"
      },
      "outputs": [
        {
          "name": "stdout",
          "output_type": "stream",
          "text": [
            "(2240, 4)\n",
            "(2240, 1)\n"
          ]
        }
      ],
      "source": [
        "print(sample_df[variables].shape)\n",
        "print(sample_df[target].shape)"
      ]
    },
    {
      "cell_type": "code",
      "execution_count": 65,
      "metadata": {
        "id": "r2H-V4VRWecE"
      },
      "outputs": [],
      "source": [
        "from sklearn import tree"
      ]
    },
    {
      "cell_type": "code",
      "execution_count": 66,
      "metadata": {
        "id": "lR4Gml4SWhcP"
      },
      "outputs": [],
      "source": [
        "dt_model = tree.DecisionTreeClassifier(max_depth =4)"
      ]
    },
    {
      "cell_type": "code",
      "execution_count": 67,
      "metadata": {
        "colab": {
          "base_uri": "https://localhost:8080/"
        },
        "id": "eP3HXpwBWiIJ",
        "outputId": "fece2d02-632b-4907-c4d3-d43fb17472d3"
      },
      "outputs": [
        {
          "data": {
            "text/html": [
              "<style>#sk-container-id-1 {color: black;background-color: white;}#sk-container-id-1 pre{padding: 0;}#sk-container-id-1 div.sk-toggleable {background-color: white;}#sk-container-id-1 label.sk-toggleable__label {cursor: pointer;display: block;width: 100%;margin-bottom: 0;padding: 0.3em;box-sizing: border-box;text-align: center;}#sk-container-id-1 label.sk-toggleable__label-arrow:before {content: \"▸\";float: left;margin-right: 0.25em;color: #696969;}#sk-container-id-1 label.sk-toggleable__label-arrow:hover:before {color: black;}#sk-container-id-1 div.sk-estimator:hover label.sk-toggleable__label-arrow:before {color: black;}#sk-container-id-1 div.sk-toggleable__content {max-height: 0;max-width: 0;overflow: hidden;text-align: left;background-color: #f0f8ff;}#sk-container-id-1 div.sk-toggleable__content pre {margin: 0.2em;color: black;border-radius: 0.25em;background-color: #f0f8ff;}#sk-container-id-1 input.sk-toggleable__control:checked~div.sk-toggleable__content {max-height: 200px;max-width: 100%;overflow: auto;}#sk-container-id-1 input.sk-toggleable__control:checked~label.sk-toggleable__label-arrow:before {content: \"▾\";}#sk-container-id-1 div.sk-estimator input.sk-toggleable__control:checked~label.sk-toggleable__label {background-color: #d4ebff;}#sk-container-id-1 div.sk-label input.sk-toggleable__control:checked~label.sk-toggleable__label {background-color: #d4ebff;}#sk-container-id-1 input.sk-hidden--visually {border: 0;clip: rect(1px 1px 1px 1px);clip: rect(1px, 1px, 1px, 1px);height: 1px;margin: -1px;overflow: hidden;padding: 0;position: absolute;width: 1px;}#sk-container-id-1 div.sk-estimator {font-family: monospace;background-color: #f0f8ff;border: 1px dotted black;border-radius: 0.25em;box-sizing: border-box;margin-bottom: 0.5em;}#sk-container-id-1 div.sk-estimator:hover {background-color: #d4ebff;}#sk-container-id-1 div.sk-parallel-item::after {content: \"\";width: 100%;border-bottom: 1px solid gray;flex-grow: 1;}#sk-container-id-1 div.sk-label:hover label.sk-toggleable__label {background-color: #d4ebff;}#sk-container-id-1 div.sk-serial::before {content: \"\";position: absolute;border-left: 1px solid gray;box-sizing: border-box;top: 0;bottom: 0;left: 50%;z-index: 0;}#sk-container-id-1 div.sk-serial {display: flex;flex-direction: column;align-items: center;background-color: white;padding-right: 0.2em;padding-left: 0.2em;position: relative;}#sk-container-id-1 div.sk-item {position: relative;z-index: 1;}#sk-container-id-1 div.sk-parallel {display: flex;align-items: stretch;justify-content: center;background-color: white;position: relative;}#sk-container-id-1 div.sk-item::before, #sk-container-id-1 div.sk-parallel-item::before {content: \"\";position: absolute;border-left: 1px solid gray;box-sizing: border-box;top: 0;bottom: 0;left: 50%;z-index: -1;}#sk-container-id-1 div.sk-parallel-item {display: flex;flex-direction: column;z-index: 1;position: relative;background-color: white;}#sk-container-id-1 div.sk-parallel-item:first-child::after {align-self: flex-end;width: 50%;}#sk-container-id-1 div.sk-parallel-item:last-child::after {align-self: flex-start;width: 50%;}#sk-container-id-1 div.sk-parallel-item:only-child::after {width: 0;}#sk-container-id-1 div.sk-dashed-wrapped {border: 1px dashed gray;margin: 0 0.4em 0.5em 0.4em;box-sizing: border-box;padding-bottom: 0.4em;background-color: white;}#sk-container-id-1 div.sk-label label {font-family: monospace;font-weight: bold;display: inline-block;line-height: 1.2em;}#sk-container-id-1 div.sk-label-container {text-align: center;}#sk-container-id-1 div.sk-container {/* jupyter's `normalize.less` sets `[hidden] { display: none; }` but bootstrap.min.css set `[hidden] { display: none !important; }` so we also need the `!important` here to be able to override the default hidden behavior on the sphinx rendered scikit-learn.org. See: https://github.com/scikit-learn/scikit-learn/issues/21755 */display: inline-block !important;position: relative;}#sk-container-id-1 div.sk-text-repr-fallback {display: none;}</style><div id=\"sk-container-id-1\" class=\"sk-top-container\"><div class=\"sk-text-repr-fallback\"><pre>DecisionTreeClassifier(max_depth=4)</pre><b>In a Jupyter environment, please rerun this cell to show the HTML representation or trust the notebook. <br />On GitHub, the HTML representation is unable to render, please try loading this page with nbviewer.org.</b></div><div class=\"sk-container\" hidden><div class=\"sk-item\"><div class=\"sk-estimator sk-toggleable\"><input class=\"sk-toggleable__control sk-hidden--visually\" id=\"sk-estimator-id-1\" type=\"checkbox\" checked><label for=\"sk-estimator-id-1\" class=\"sk-toggleable__label sk-toggleable__label-arrow\">DecisionTreeClassifier</label><div class=\"sk-toggleable__content\"><pre>DecisionTreeClassifier(max_depth=4)</pre></div></div></div></div></div>"
            ],
            "text/plain": [
              "DecisionTreeClassifier(max_depth=4)"
            ]
          },
          "execution_count": 67,
          "metadata": {},
          "output_type": "execute_result"
        }
      ],
      "source": [
        "dt_model.fit(df[variables], df[target])"
      ]
    },
    {
      "cell_type": "code",
      "execution_count": 68,
      "metadata": {
        "id": "zK72NNJBWrVJ"
      },
      "outputs": [],
      "source": [
        "dot_data = tree.export_graphviz(dt_model, feature_names = variables, class_names = [\"0\", \"1\"],\n",
        "                               filled = True, rounded = True, special_characters = True)\n",
        "\n",
        "graph = graphviz.Source(dot_data)"
      ]
    },
    {
      "cell_type": "code",
      "execution_count": 55,
      "metadata": {
        "colab": {
          "base_uri": "https://localhost:8080/",
          "height": 777
        },
        "id": "3V8G0rAtW4lg",
        "outputId": "4cb5f0e3-b96d-453c-8c3c-eacf2fb889c5"
      },
      "outputs": [
        {
          "data": {
            "image/svg+xml": "<?xml version=\"1.0\" encoding=\"UTF-8\" standalone=\"no\"?>\n<!DOCTYPE svg PUBLIC \"-//W3C//DTD SVG 1.1//EN\"\n \"http://www.w3.org/Graphics/SVG/1.1/DTD/svg11.dtd\">\n<!-- Generated by graphviz version 2.40.1 (20161225.0304)\n -->\n<!-- Title: Tree Pages: 1 -->\n<svg width=\"1901pt\" height=\"552pt\"\n viewBox=\"0.00 0.00 1901.00 552.00\" xmlns=\"http://www.w3.org/2000/svg\" xmlns:xlink=\"http://www.w3.org/1999/xlink\">\n<g id=\"graph0\" class=\"graph\" transform=\"scale(1 1) rotate(0) translate(4 548)\">\n<title>Tree</title>\n<polygon fill=\"#ffffff\" stroke=\"transparent\" points=\"-4,4 -4,-548 1897,-548 1897,4 -4,4\"/>\n<!-- 0 -->\n<g id=\"node1\" class=\"node\">\n<title>0</title>\n<path fill=\"#efb083\" stroke=\"#000000\" d=\"M1128,-544C1128,-544 1012,-544 1012,-544 1006,-544 1000,-538 1000,-532 1000,-532 1000,-473 1000,-473 1000,-467 1006,-461 1012,-461 1012,-461 1128,-461 1128,-461 1134,-461 1140,-467 1140,-473 1140,-473 1140,-532 1140,-532 1140,-538 1134,-544 1128,-544\"/>\n<text text-anchor=\"start\" x=\"1011.5\" y=\"-528.8\" font-family=\"Helvetica,sans-Serif\" font-size=\"14.00\" fill=\"#000000\">MntWines ≤ 666.5</text>\n<text text-anchor=\"start\" x=\"1032\" y=\"-513.8\" font-family=\"Helvetica,sans-Serif\" font-size=\"14.00\" fill=\"#000000\">gini = 0.396</text>\n<text text-anchor=\"start\" x=\"1018\" y=\"-498.8\" font-family=\"Helvetica,sans-Serif\" font-size=\"14.00\" fill=\"#000000\">samples = 2240</text>\n<text text-anchor=\"start\" x=\"1008\" y=\"-483.8\" font-family=\"Helvetica,sans-Serif\" font-size=\"14.00\" fill=\"#000000\">value = [1631, 609]</text>\n<text text-anchor=\"start\" x=\"1041\" y=\"-468.8\" font-family=\"Helvetica,sans-Serif\" font-size=\"14.00\" fill=\"#000000\">class = 0</text>\n</g>\n<!-- 1 -->\n<g id=\"node2\" class=\"node\">\n<title>1</title>\n<path fill=\"#eba069\" stroke=\"#000000\" d=\"M885,-425C885,-425 769,-425 769,-425 763,-425 757,-419 757,-413 757,-413 757,-354 757,-354 757,-348 763,-342 769,-342 769,-342 885,-342 885,-342 891,-342 897,-348 897,-354 897,-354 897,-413 897,-413 897,-419 891,-425 885,-425\"/>\n<text text-anchor=\"start\" x=\"768.5\" y=\"-409.8\" font-family=\"Helvetica,sans-Serif\" font-size=\"14.00\" fill=\"#000000\">MntWines ≤ 388.5</text>\n<text text-anchor=\"start\" x=\"789\" y=\"-394.8\" font-family=\"Helvetica,sans-Serif\" font-size=\"14.00\" fill=\"#000000\">gini = 0.314</text>\n<text text-anchor=\"start\" x=\"775\" y=\"-379.8\" font-family=\"Helvetica,sans-Serif\" font-size=\"14.00\" fill=\"#000000\">samples = 1882</text>\n<text text-anchor=\"start\" x=\"765\" y=\"-364.8\" font-family=\"Helvetica,sans-Serif\" font-size=\"14.00\" fill=\"#000000\">value = [1515, 367]</text>\n<text text-anchor=\"start\" x=\"798\" y=\"-349.8\" font-family=\"Helvetica,sans-Serif\" font-size=\"14.00\" fill=\"#000000\">class = 0</text>\n</g>\n<!-- 0&#45;&gt;1 -->\n<g id=\"edge1\" class=\"edge\">\n<title>0&#45;&gt;1</title>\n<path fill=\"none\" stroke=\"#000000\" d=\"M999.7143,-468.0803C970.4976,-453.7725 936.4448,-437.0964 906.3356,-422.3516\"/>\n<polygon fill=\"#000000\" stroke=\"#000000\" points=\"907.648,-419.0972 897.1277,-417.8424 904.5693,-425.3838 907.648,-419.0972\"/>\n<text text-anchor=\"middle\" x=\"905.2291\" y=\"-437.7933\" font-family=\"Helvetica,sans-Serif\" font-size=\"14.00\" fill=\"#000000\">True</text>\n</g>\n<!-- 16 -->\n<g id=\"node17\" class=\"node\">\n<title>16</title>\n<path fill=\"#98ccf1\" stroke=\"#000000\" d=\"M1388.5,-425C1388.5,-425 1279.5,-425 1279.5,-425 1273.5,-425 1267.5,-419 1267.5,-413 1267.5,-413 1267.5,-354 1267.5,-354 1267.5,-348 1273.5,-342 1279.5,-342 1279.5,-342 1388.5,-342 1388.5,-342 1394.5,-342 1400.5,-348 1400.5,-354 1400.5,-354 1400.5,-413 1400.5,-413 1400.5,-419 1394.5,-425 1388.5,-425\"/>\n<text text-anchor=\"start\" x=\"1275.5\" y=\"-409.8\" font-family=\"Helvetica,sans-Serif\" font-size=\"14.00\" fill=\"#000000\">MntWines ≤ 898.0</text>\n<text text-anchor=\"start\" x=\"1296\" y=\"-394.8\" font-family=\"Helvetica,sans-Serif\" font-size=\"14.00\" fill=\"#000000\">gini = 0.438</text>\n<text text-anchor=\"start\" x=\"1286\" y=\"-379.8\" font-family=\"Helvetica,sans-Serif\" font-size=\"14.00\" fill=\"#000000\">samples = 358</text>\n<text text-anchor=\"start\" x=\"1276\" y=\"-364.8\" font-family=\"Helvetica,sans-Serif\" font-size=\"14.00\" fill=\"#000000\">value = [116, 242]</text>\n<text text-anchor=\"start\" x=\"1305\" y=\"-349.8\" font-family=\"Helvetica,sans-Serif\" font-size=\"14.00\" fill=\"#000000\">class = 1</text>\n</g>\n<!-- 0&#45;&gt;16 -->\n<g id=\"edge16\" class=\"edge\">\n<title>0&#45;&gt;16</title>\n<path fill=\"none\" stroke=\"#000000\" d=\"M1140.054,-470.9226C1176.3862,-454.5456 1220.8158,-434.5186 1257.9793,-417.7669\"/>\n<polygon fill=\"#000000\" stroke=\"#000000\" points=\"1259.5834,-420.8831 1267.2617,-413.5828 1256.7068,-414.5014 1259.5834,-420.8831\"/>\n<text text-anchor=\"middle\" x=\"1258.4101\" y=\"-433.2633\" font-family=\"Helvetica,sans-Serif\" font-size=\"14.00\" fill=\"#000000\">False</text>\n</g>\n<!-- 2 -->\n<g id=\"node3\" class=\"node\">\n<title>2</title>\n<path fill=\"#ea995f\" stroke=\"#000000\" d=\"M499.5,-306C499.5,-306 336.5,-306 336.5,-306 330.5,-306 324.5,-300 324.5,-294 324.5,-294 324.5,-235 324.5,-235 324.5,-229 330.5,-223 336.5,-223 336.5,-223 499.5,-223 499.5,-223 505.5,-223 511.5,-229 511.5,-235 511.5,-235 511.5,-294 511.5,-294 511.5,-300 505.5,-306 499.5,-306\"/>\n<text text-anchor=\"start\" x=\"332.5\" y=\"-290.8\" font-family=\"Helvetica,sans-Serif\" font-size=\"14.00\" fill=\"#000000\">NumStorePurchases ≤ 2.5</text>\n<text text-anchor=\"start\" x=\"380\" y=\"-275.8\" font-family=\"Helvetica,sans-Serif\" font-size=\"14.00\" fill=\"#000000\">gini = 0.269</text>\n<text text-anchor=\"start\" x=\"366\" y=\"-260.8\" font-family=\"Helvetica,sans-Serif\" font-size=\"14.00\" fill=\"#000000\">samples = 1516</text>\n<text text-anchor=\"start\" x=\"356\" y=\"-245.8\" font-family=\"Helvetica,sans-Serif\" font-size=\"14.00\" fill=\"#000000\">value = [1273, 243]</text>\n<text text-anchor=\"start\" x=\"389\" y=\"-230.8\" font-family=\"Helvetica,sans-Serif\" font-size=\"14.00\" fill=\"#000000\">class = 0</text>\n</g>\n<!-- 1&#45;&gt;2 -->\n<g id=\"edge2\" class=\"edge\">\n<title>1&#45;&gt;2</title>\n<path fill=\"none\" stroke=\"#000000\" d=\"M756.6904,-363.0432C691.8806,-344.1865 594.8769,-315.963 521.2711,-294.5471\"/>\n<polygon fill=\"#000000\" stroke=\"#000000\" points=\"522.083,-291.1382 511.5033,-291.7051 520.1274,-297.8595 522.083,-291.1382\"/>\n</g>\n<!-- 9 -->\n<g id=\"node10\" class=\"node\">\n<title>9</title>\n<path fill=\"#f2c29e\" stroke=\"#000000\" d=\"M908.5,-306C908.5,-306 745.5,-306 745.5,-306 739.5,-306 733.5,-300 733.5,-294 733.5,-294 733.5,-235 733.5,-235 733.5,-229 739.5,-223 745.5,-223 745.5,-223 908.5,-223 908.5,-223 914.5,-223 920.5,-229 920.5,-235 920.5,-235 920.5,-294 920.5,-294 920.5,-300 914.5,-306 908.5,-306\"/>\n<text text-anchor=\"start\" x=\"741.5\" y=\"-290.8\" font-family=\"Helvetica,sans-Serif\" font-size=\"14.00\" fill=\"#000000\">NumStorePurchases ≤ 8.5</text>\n<text text-anchor=\"start\" x=\"789\" y=\"-275.8\" font-family=\"Helvetica,sans-Serif\" font-size=\"14.00\" fill=\"#000000\">gini = 0.448</text>\n<text text-anchor=\"start\" x=\"779\" y=\"-260.8\" font-family=\"Helvetica,sans-Serif\" font-size=\"14.00\" fill=\"#000000\">samples = 366</text>\n<text text-anchor=\"start\" x=\"769\" y=\"-245.8\" font-family=\"Helvetica,sans-Serif\" font-size=\"14.00\" fill=\"#000000\">value = [242, 124]</text>\n<text text-anchor=\"start\" x=\"798\" y=\"-230.8\" font-family=\"Helvetica,sans-Serif\" font-size=\"14.00\" fill=\"#000000\">class = 0</text>\n</g>\n<!-- 1&#45;&gt;9 -->\n<g id=\"edge9\" class=\"edge\">\n<title>1&#45;&gt;9</title>\n<path fill=\"none\" stroke=\"#000000\" d=\"M827,-341.8796C827,-333.6838 827,-324.9891 827,-316.5013\"/>\n<polygon fill=\"#000000\" stroke=\"#000000\" points=\"830.5001,-316.298 827,-306.2981 823.5001,-316.2981 830.5001,-316.298\"/>\n</g>\n<!-- 3 -->\n<g id=\"node4\" class=\"node\">\n<title>3</title>\n<path fill=\"#f0b88f\" stroke=\"#000000\" d=\"M250.5,-187C250.5,-187 149.5,-187 149.5,-187 143.5,-187 137.5,-181 137.5,-175 137.5,-175 137.5,-116 137.5,-116 137.5,-110 143.5,-104 149.5,-104 149.5,-104 250.5,-104 250.5,-104 256.5,-104 262.5,-110 262.5,-116 262.5,-116 262.5,-175 262.5,-175 262.5,-181 256.5,-187 250.5,-187\"/>\n<text text-anchor=\"start\" x=\"145.5\" y=\"-171.8\" font-family=\"Helvetica,sans-Serif\" font-size=\"14.00\" fill=\"#000000\">MntWines ≤ 13.5</text>\n<text text-anchor=\"start\" x=\"162\" y=\"-156.8\" font-family=\"Helvetica,sans-Serif\" font-size=\"14.00\" fill=\"#000000\">gini = 0.422</text>\n<text text-anchor=\"start\" x=\"152\" y=\"-141.8\" font-family=\"Helvetica,sans-Serif\" font-size=\"14.00\" fill=\"#000000\">samples = 245</text>\n<text text-anchor=\"start\" x=\"146\" y=\"-126.8\" font-family=\"Helvetica,sans-Serif\" font-size=\"14.00\" fill=\"#000000\">value = [171, 74]</text>\n<text text-anchor=\"start\" x=\"171\" y=\"-111.8\" font-family=\"Helvetica,sans-Serif\" font-size=\"14.00\" fill=\"#000000\">class = 0</text>\n</g>\n<!-- 2&#45;&gt;3 -->\n<g id=\"edge3\" class=\"edge\">\n<title>2&#45;&gt;3</title>\n<path fill=\"none\" stroke=\"#000000\" d=\"M341.7542,-222.8796C318.883,-210.3948 293.8907,-196.7523 271.3481,-184.4469\"/>\n<polygon fill=\"#000000\" stroke=\"#000000\" points=\"272.9655,-181.3423 262.5111,-179.623 269.6115,-187.4865 272.9655,-181.3423\"/>\n</g>\n<!-- 6 -->\n<g id=\"node7\" class=\"node\">\n<title>6</title>\n<path fill=\"#e99457\" stroke=\"#000000\" d=\"M476,-187C476,-187 360,-187 360,-187 354,-187 348,-181 348,-175 348,-175 348,-116 348,-116 348,-110 354,-104 360,-104 360,-104 476,-104 476,-104 482,-104 488,-110 488,-116 488,-116 488,-175 488,-175 488,-181 482,-187 476,-187\"/>\n<text text-anchor=\"start\" x=\"359.5\" y=\"-171.8\" font-family=\"Helvetica,sans-Serif\" font-size=\"14.00\" fill=\"#000000\">MntWines ≤ 114.0</text>\n<text text-anchor=\"start\" x=\"380\" y=\"-156.8\" font-family=\"Helvetica,sans-Serif\" font-size=\"14.00\" fill=\"#000000\">gini = 0.231</text>\n<text text-anchor=\"start\" x=\"366\" y=\"-141.8\" font-family=\"Helvetica,sans-Serif\" font-size=\"14.00\" fill=\"#000000\">samples = 1271</text>\n<text text-anchor=\"start\" x=\"356\" y=\"-126.8\" font-family=\"Helvetica,sans-Serif\" font-size=\"14.00\" fill=\"#000000\">value = [1102, 169]</text>\n<text text-anchor=\"start\" x=\"389\" y=\"-111.8\" font-family=\"Helvetica,sans-Serif\" font-size=\"14.00\" fill=\"#000000\">class = 0</text>\n</g>\n<!-- 2&#45;&gt;6 -->\n<g id=\"edge6\" class=\"edge\">\n<title>2&#45;&gt;6</title>\n<path fill=\"none\" stroke=\"#000000\" d=\"M418,-222.8796C418,-214.6838 418,-205.9891 418,-197.5013\"/>\n<polygon fill=\"#000000\" stroke=\"#000000\" points=\"421.5001,-197.298 418,-187.2981 414.5001,-197.2981 421.5001,-197.298\"/>\n</g>\n<!-- 4 -->\n<g id=\"node5\" class=\"node\">\n<title>4</title>\n<path fill=\"#eca06a\" stroke=\"#000000\" d=\"M112,-68C112,-68 12,-68 12,-68 6,-68 0,-62 0,-56 0,-56 0,-12 0,-12 0,-6 6,0 12,0 12,0 112,0 112,0 118,0 124,-6 124,-12 124,-12 124,-56 124,-56 124,-62 118,-68 112,-68\"/>\n<text text-anchor=\"start\" x=\"28.5\" y=\"-52.8\" font-family=\"Helvetica,sans-Serif\" font-size=\"14.00\" fill=\"#000000\">gini = 0.32</text>\n<text text-anchor=\"start\" x=\"14\" y=\"-37.8\" font-family=\"Helvetica,sans-Serif\" font-size=\"14.00\" fill=\"#000000\">samples = 155</text>\n<text text-anchor=\"start\" x=\"8\" y=\"-22.8\" font-family=\"Helvetica,sans-Serif\" font-size=\"14.00\" fill=\"#000000\">value = [124, 31]</text>\n<text text-anchor=\"start\" x=\"33\" y=\"-7.8\" font-family=\"Helvetica,sans-Serif\" font-size=\"14.00\" fill=\"#000000\">class = 0</text>\n</g>\n<!-- 3&#45;&gt;4 -->\n<g id=\"edge4\" class=\"edge\">\n<title>3&#45;&gt;4</title>\n<path fill=\"none\" stroke=\"#000000\" d=\"M148.6139,-103.9815C136.7839,-94.4232 124.2136,-84.2668 112.4249,-74.7419\"/>\n<polygon fill=\"#000000\" stroke=\"#000000\" points=\"114.3851,-71.826 104.4071,-68.2637 109.9858,-77.2708 114.3851,-71.826\"/>\n</g>\n<!-- 5 -->\n<g id=\"node6\" class=\"node\">\n<title>5</title>\n<path fill=\"#fdf4ee\" stroke=\"#000000\" d=\"M246,-68C246,-68 154,-68 154,-68 148,-68 142,-62 142,-56 142,-56 142,-12 142,-12 142,-6 148,0 154,0 154,0 246,0 246,0 252,0 258,-6 258,-12 258,-12 258,-56 258,-56 258,-62 252,-68 246,-68\"/>\n<text text-anchor=\"start\" x=\"162\" y=\"-52.8\" font-family=\"Helvetica,sans-Serif\" font-size=\"14.00\" fill=\"#000000\">gini = 0.499</text>\n<text text-anchor=\"start\" x=\"156\" y=\"-37.8\" font-family=\"Helvetica,sans-Serif\" font-size=\"14.00\" fill=\"#000000\">samples = 90</text>\n<text text-anchor=\"start\" x=\"150\" y=\"-22.8\" font-family=\"Helvetica,sans-Serif\" font-size=\"14.00\" fill=\"#000000\">value = [47, 43]</text>\n<text text-anchor=\"start\" x=\"171\" y=\"-7.8\" font-family=\"Helvetica,sans-Serif\" font-size=\"14.00\" fill=\"#000000\">class = 0</text>\n</g>\n<!-- 3&#45;&gt;5 -->\n<g id=\"edge5\" class=\"edge\">\n<title>3&#45;&gt;5</title>\n<path fill=\"none\" stroke=\"#000000\" d=\"M200,-103.9815C200,-95.618 200,-86.7965 200,-78.3409\"/>\n<polygon fill=\"#000000\" stroke=\"#000000\" points=\"203.5001,-78.2636 200,-68.2637 196.5001,-78.2637 203.5001,-78.2636\"/>\n</g>\n<!-- 7 -->\n<g id=\"node8\" class=\"node\">\n<title>7</title>\n<path fill=\"#e78b49\" stroke=\"#000000\" d=\"M388,-68C388,-68 288,-68 288,-68 282,-68 276,-62 276,-56 276,-56 276,-12 276,-12 276,-6 282,0 288,0 288,0 388,0 388,0 394,0 400,-6 400,-12 400,-12 400,-56 400,-56 400,-62 394,-68 388,-68\"/>\n<text text-anchor=\"start\" x=\"304.5\" y=\"-52.8\" font-family=\"Helvetica,sans-Serif\" font-size=\"14.00\" fill=\"#000000\">gini = 0.14</text>\n<text text-anchor=\"start\" x=\"290\" y=\"-37.8\" font-family=\"Helvetica,sans-Serif\" font-size=\"14.00\" fill=\"#000000\">samples = 739</text>\n<text text-anchor=\"start\" x=\"284\" y=\"-22.8\" font-family=\"Helvetica,sans-Serif\" font-size=\"14.00\" fill=\"#000000\">value = [683, 56]</text>\n<text text-anchor=\"start\" x=\"309\" y=\"-7.8\" font-family=\"Helvetica,sans-Serif\" font-size=\"14.00\" fill=\"#000000\">class = 0</text>\n</g>\n<!-- 6&#45;&gt;7 -->\n<g id=\"edge7\" class=\"edge\">\n<title>6&#45;&gt;7</title>\n<path fill=\"none\" stroke=\"#000000\" d=\"M388.211,-103.9815C381.7486,-94.9747 374.9052,-85.4367 368.419,-76.3965\"/>\n<polygon fill=\"#000000\" stroke=\"#000000\" points=\"371.2572,-74.3483 362.5838,-68.2637 365.5697,-78.4291 371.2572,-74.3483\"/>\n</g>\n<!-- 8 -->\n<g id=\"node9\" class=\"node\">\n<title>8</title>\n<path fill=\"#eca36e\" stroke=\"#000000\" d=\"M538,-68C538,-68 430,-68 430,-68 424,-68 418,-62 418,-56 418,-56 418,-12 418,-12 418,-6 424,0 430,0 430,0 538,0 538,0 544,0 550,-6 550,-12 550,-12 550,-56 550,-56 550,-62 544,-68 538,-68\"/>\n<text text-anchor=\"start\" x=\"446\" y=\"-52.8\" font-family=\"Helvetica,sans-Serif\" font-size=\"14.00\" fill=\"#000000\">gini = 0.335</text>\n<text text-anchor=\"start\" x=\"436\" y=\"-37.8\" font-family=\"Helvetica,sans-Serif\" font-size=\"14.00\" fill=\"#000000\">samples = 532</text>\n<text text-anchor=\"start\" x=\"426\" y=\"-22.8\" font-family=\"Helvetica,sans-Serif\" font-size=\"14.00\" fill=\"#000000\">value = [419, 113]</text>\n<text text-anchor=\"start\" x=\"455\" y=\"-7.8\" font-family=\"Helvetica,sans-Serif\" font-size=\"14.00\" fill=\"#000000\">class = 0</text>\n</g>\n<!-- 6&#45;&gt;8 -->\n<g id=\"edge8\" class=\"edge\">\n<title>6&#45;&gt;8</title>\n<path fill=\"none\" stroke=\"#000000\" d=\"M442.576,-103.9815C447.7986,-95.1585 453.3229,-85.8258 458.5763,-76.9506\"/>\n<polygon fill=\"#000000\" stroke=\"#000000\" points=\"461.6364,-78.652 463.7184,-68.2637 455.6126,-75.0863 461.6364,-78.652\"/>\n</g>\n<!-- 10 -->\n<g id=\"node11\" class=\"node\">\n<title>10</title>\n<path fill=\"#fbeee4\" stroke=\"#000000\" d=\"M806,-187C806,-187 706,-187 706,-187 700,-187 694,-181 694,-175 694,-175 694,-116 694,-116 694,-110 700,-104 706,-104 706,-104 806,-104 806,-104 812,-104 818,-110 818,-116 818,-116 818,-175 818,-175 818,-181 812,-187 806,-187\"/>\n<text text-anchor=\"start\" x=\"705\" y=\"-171.8\" font-family=\"Helvetica,sans-Serif\" font-size=\"14.00\" fill=\"#000000\">Recency ≤ 15.0</text>\n<text text-anchor=\"start\" x=\"718\" y=\"-156.8\" font-family=\"Helvetica,sans-Serif\" font-size=\"14.00\" fill=\"#000000\">gini = 0.497</text>\n<text text-anchor=\"start\" x=\"708\" y=\"-141.8\" font-family=\"Helvetica,sans-Serif\" font-size=\"14.00\" fill=\"#000000\">samples = 192</text>\n<text text-anchor=\"start\" x=\"702\" y=\"-126.8\" font-family=\"Helvetica,sans-Serif\" font-size=\"14.00\" fill=\"#000000\">value = [103, 89]</text>\n<text text-anchor=\"start\" x=\"727\" y=\"-111.8\" font-family=\"Helvetica,sans-Serif\" font-size=\"14.00\" fill=\"#000000\">class = 0</text>\n</g>\n<!-- 9&#45;&gt;10 -->\n<g id=\"edge10\" class=\"edge\">\n<title>9&#45;&gt;10</title>\n<path fill=\"none\" stroke=\"#000000\" d=\"M802.1676,-222.8796C797.0091,-214.2335 791.5192,-205.0322 786.1924,-196.1042\"/>\n<polygon fill=\"#000000\" stroke=\"#000000\" points=\"789.0678,-194.0924 780.9383,-187.2981 783.0564,-197.679 789.0678,-194.0924\"/>\n</g>\n<!-- 13 -->\n<g id=\"node14\" class=\"node\">\n<title>13</title>\n<path fill=\"#eca16b\" stroke=\"#000000\" d=\"M948,-187C948,-187 848,-187 848,-187 842,-187 836,-181 836,-175 836,-175 836,-116 836,-116 836,-110 842,-104 848,-104 848,-104 948,-104 948,-104 954,-104 960,-110 960,-116 960,-116 960,-175 960,-175 960,-181 954,-187 948,-187\"/>\n<text text-anchor=\"start\" x=\"845.5\" y=\"-171.8\" font-family=\"Helvetica,sans-Serif\" font-size=\"14.00\" fill=\"#000000\">Teenhome ≤ 0.5</text>\n<text text-anchor=\"start\" x=\"860\" y=\"-156.8\" font-family=\"Helvetica,sans-Serif\" font-size=\"14.00\" fill=\"#000000\">gini = 0.321</text>\n<text text-anchor=\"start\" x=\"850\" y=\"-141.8\" font-family=\"Helvetica,sans-Serif\" font-size=\"14.00\" fill=\"#000000\">samples = 174</text>\n<text text-anchor=\"start\" x=\"844\" y=\"-126.8\" font-family=\"Helvetica,sans-Serif\" font-size=\"14.00\" fill=\"#000000\">value = [139, 35]</text>\n<text text-anchor=\"start\" x=\"869\" y=\"-111.8\" font-family=\"Helvetica,sans-Serif\" font-size=\"14.00\" fill=\"#000000\">class = 0</text>\n</g>\n<!-- 9&#45;&gt;13 -->\n<g id=\"edge13\" class=\"edge\">\n<title>9&#45;&gt;13</title>\n<path fill=\"none\" stroke=\"#000000\" d=\"M851.8324,-222.8796C856.9909,-214.2335 862.4808,-205.0322 867.8076,-196.1042\"/>\n<polygon fill=\"#000000\" stroke=\"#000000\" points=\"870.9436,-197.679 873.0617,-187.2981 864.9322,-194.0924 870.9436,-197.679\"/>\n</g>\n<!-- 11 -->\n<g id=\"node12\" class=\"node\">\n<title>11</title>\n<path fill=\"#b5daf5\" stroke=\"#000000\" d=\"M672,-68C672,-68 580,-68 580,-68 574,-68 568,-62 568,-56 568,-56 568,-12 568,-12 568,-6 574,0 580,0 580,0 672,0 672,0 678,0 684,-6 684,-12 684,-12 684,-56 684,-56 684,-62 678,-68 672,-68\"/>\n<text text-anchor=\"start\" x=\"588\" y=\"-52.8\" font-family=\"Helvetica,sans-Serif\" font-size=\"14.00\" fill=\"#000000\">gini = 0.473</text>\n<text text-anchor=\"start\" x=\"582\" y=\"-37.8\" font-family=\"Helvetica,sans-Serif\" font-size=\"14.00\" fill=\"#000000\">samples = 39</text>\n<text text-anchor=\"start\" x=\"576\" y=\"-22.8\" font-family=\"Helvetica,sans-Serif\" font-size=\"14.00\" fill=\"#000000\">value = [15, 24]</text>\n<text text-anchor=\"start\" x=\"597\" y=\"-7.8\" font-family=\"Helvetica,sans-Serif\" font-size=\"14.00\" fill=\"#000000\">class = 1</text>\n</g>\n<!-- 10&#45;&gt;11 -->\n<g id=\"edge11\" class=\"edge\">\n<title>10&#45;&gt;11</title>\n<path fill=\"none\" stroke=\"#000000\" d=\"M707.5928,-103.9815C696.5558,-94.5151 684.8347,-84.462 673.8223,-75.0168\"/>\n<polygon fill=\"#000000\" stroke=\"#000000\" points=\"675.8178,-72.1173 665.9487,-68.2637 671.2606,-77.4307 675.8178,-72.1173\"/>\n</g>\n<!-- 12 -->\n<g id=\"node13\" class=\"node\">\n<title>12</title>\n<path fill=\"#f8decb\" stroke=\"#000000\" d=\"M806,-68C806,-68 714,-68 714,-68 708,-68 702,-62 702,-56 702,-56 702,-12 702,-12 702,-6 708,0 714,0 714,0 806,0 806,0 812,0 818,-6 818,-12 818,-12 818,-56 818,-56 818,-62 812,-68 806,-68\"/>\n<text text-anchor=\"start\" x=\"722\" y=\"-52.8\" font-family=\"Helvetica,sans-Serif\" font-size=\"14.00\" fill=\"#000000\">gini = 0.489</text>\n<text text-anchor=\"start\" x=\"712\" y=\"-37.8\" font-family=\"Helvetica,sans-Serif\" font-size=\"14.00\" fill=\"#000000\">samples = 153</text>\n<text text-anchor=\"start\" x=\"710\" y=\"-22.8\" font-family=\"Helvetica,sans-Serif\" font-size=\"14.00\" fill=\"#000000\">value = [88, 65]</text>\n<text text-anchor=\"start\" x=\"731\" y=\"-7.8\" font-family=\"Helvetica,sans-Serif\" font-size=\"14.00\" fill=\"#000000\">class = 0</text>\n</g>\n<!-- 10&#45;&gt;12 -->\n<g id=\"edge12\" class=\"edge\">\n<title>10&#45;&gt;12</title>\n<path fill=\"none\" stroke=\"#000000\" d=\"M757.4895,-103.9815C757.7895,-95.618 758.106,-86.7965 758.4093,-78.3409\"/>\n<polygon fill=\"#000000\" stroke=\"#000000\" points=\"761.91,-78.3828 758.7708,-68.2637 754.9145,-78.1317 761.91,-78.3828\"/>\n</g>\n<!-- 14 -->\n<g id=\"node15\" class=\"node\">\n<title>14</title>\n<path fill=\"#f3c3a0\" stroke=\"#000000\" d=\"M940,-68C940,-68 848,-68 848,-68 842,-68 836,-62 836,-56 836,-56 836,-12 836,-12 836,-6 842,0 848,0 848,0 940,0 940,0 946,0 952,-6 952,-12 952,-12 952,-56 952,-56 952,-62 946,-68 940,-68\"/>\n<text text-anchor=\"start\" x=\"856\" y=\"-52.8\" font-family=\"Helvetica,sans-Serif\" font-size=\"14.00\" fill=\"#000000\">gini = 0.451</text>\n<text text-anchor=\"start\" x=\"850\" y=\"-37.8\" font-family=\"Helvetica,sans-Serif\" font-size=\"14.00\" fill=\"#000000\">samples = 70</text>\n<text text-anchor=\"start\" x=\"844\" y=\"-22.8\" font-family=\"Helvetica,sans-Serif\" font-size=\"14.00\" fill=\"#000000\">value = [46, 24]</text>\n<text text-anchor=\"start\" x=\"865\" y=\"-7.8\" font-family=\"Helvetica,sans-Serif\" font-size=\"14.00\" fill=\"#000000\">class = 0</text>\n</g>\n<!-- 13&#45;&gt;14 -->\n<g id=\"edge14\" class=\"edge\">\n<title>13&#45;&gt;14</title>\n<path fill=\"none\" stroke=\"#000000\" d=\"M896.5105,-103.9815C896.2105,-95.618 895.894,-86.7965 895.5907,-78.3409\"/>\n<polygon fill=\"#000000\" stroke=\"#000000\" points=\"899.0855,-78.1317 895.2292,-68.2637 892.09,-78.3828 899.0855,-78.1317\"/>\n</g>\n<!-- 15 -->\n<g id=\"node16\" class=\"node\">\n<title>15</title>\n<path fill=\"#e89050\" stroke=\"#000000\" d=\"M1074,-68C1074,-68 982,-68 982,-68 976,-68 970,-62 970,-56 970,-56 970,-12 970,-12 970,-6 976,0 982,0 982,0 1074,0 1074,0 1080,0 1086,-6 1086,-12 1086,-12 1086,-56 1086,-56 1086,-62 1080,-68 1074,-68\"/>\n<text text-anchor=\"start\" x=\"990\" y=\"-52.8\" font-family=\"Helvetica,sans-Serif\" font-size=\"14.00\" fill=\"#000000\">gini = 0.189</text>\n<text text-anchor=\"start\" x=\"980\" y=\"-37.8\" font-family=\"Helvetica,sans-Serif\" font-size=\"14.00\" fill=\"#000000\">samples = 104</text>\n<text text-anchor=\"start\" x=\"978\" y=\"-22.8\" font-family=\"Helvetica,sans-Serif\" font-size=\"14.00\" fill=\"#000000\">value = [93, 11]</text>\n<text text-anchor=\"start\" x=\"999\" y=\"-7.8\" font-family=\"Helvetica,sans-Serif\" font-size=\"14.00\" fill=\"#000000\">class = 0</text>\n</g>\n<!-- 13&#45;&gt;15 -->\n<g id=\"edge15\" class=\"edge\">\n<title>13&#45;&gt;15</title>\n<path fill=\"none\" stroke=\"#000000\" d=\"M946.4072,-103.9815C957.4442,-94.5151 969.1653,-84.462 980.1777,-75.0168\"/>\n<polygon fill=\"#000000\" stroke=\"#000000\" points=\"982.7394,-77.4307 988.0513,-68.2637 978.1822,-72.1173 982.7394,-77.4307\"/>\n</g>\n<!-- 17 -->\n<g id=\"node18\" class=\"node\">\n<title>17</title>\n<path fill=\"#eaf4fc\" stroke=\"#000000\" d=\"M1382.5,-306C1382.5,-306 1285.5,-306 1285.5,-306 1279.5,-306 1273.5,-300 1273.5,-294 1273.5,-294 1273.5,-235 1273.5,-235 1273.5,-229 1279.5,-223 1285.5,-223 1285.5,-223 1382.5,-223 1382.5,-223 1388.5,-223 1394.5,-229 1394.5,-235 1394.5,-235 1394.5,-294 1394.5,-294 1394.5,-300 1388.5,-306 1382.5,-306\"/>\n<text text-anchor=\"start\" x=\"1281.5\" y=\"-290.8\" font-family=\"Helvetica,sans-Serif\" font-size=\"14.00\" fill=\"#000000\">Teenhome ≤ 0.5</text>\n<text text-anchor=\"start\" x=\"1296\" y=\"-275.8\" font-family=\"Helvetica,sans-Serif\" font-size=\"14.00\" fill=\"#000000\">gini = 0.498</text>\n<text text-anchor=\"start\" x=\"1286\" y=\"-260.8\" font-family=\"Helvetica,sans-Serif\" font-size=\"14.00\" fill=\"#000000\">samples = 176</text>\n<text text-anchor=\"start\" x=\"1284\" y=\"-245.8\" font-family=\"Helvetica,sans-Serif\" font-size=\"14.00\" fill=\"#000000\">value = [83, 93]</text>\n<text text-anchor=\"start\" x=\"1305\" y=\"-230.8\" font-family=\"Helvetica,sans-Serif\" font-size=\"14.00\" fill=\"#000000\">class = 1</text>\n</g>\n<!-- 16&#45;&gt;17 -->\n<g id=\"edge17\" class=\"edge\">\n<title>16&#45;&gt;17</title>\n<path fill=\"none\" stroke=\"#000000\" d=\"M1334,-341.8796C1334,-333.6838 1334,-324.9891 1334,-316.5013\"/>\n<polygon fill=\"#000000\" stroke=\"#000000\" points=\"1337.5001,-316.298 1334,-306.2981 1330.5001,-316.2981 1337.5001,-316.298\"/>\n</g>\n<!-- 24 -->\n<g id=\"node25\" class=\"node\">\n<title>24</title>\n<path fill=\"#65b3eb\" stroke=\"#000000\" d=\"M1645.5,-306C1645.5,-306 1536.5,-306 1536.5,-306 1530.5,-306 1524.5,-300 1524.5,-294 1524.5,-294 1524.5,-235 1524.5,-235 1524.5,-229 1530.5,-223 1536.5,-223 1536.5,-223 1645.5,-223 1645.5,-223 1651.5,-223 1657.5,-229 1657.5,-235 1657.5,-235 1657.5,-294 1657.5,-294 1657.5,-300 1651.5,-306 1645.5,-306\"/>\n<text text-anchor=\"start\" x=\"1532.5\" y=\"-290.8\" font-family=\"Helvetica,sans-Serif\" font-size=\"14.00\" fill=\"#000000\">MntWines ≤ 918.5</text>\n<text text-anchor=\"start\" x=\"1553\" y=\"-275.8\" font-family=\"Helvetica,sans-Serif\" font-size=\"14.00\" fill=\"#000000\">gini = 0.297</text>\n<text text-anchor=\"start\" x=\"1543\" y=\"-260.8\" font-family=\"Helvetica,sans-Serif\" font-size=\"14.00\" fill=\"#000000\">samples = 182</text>\n<text text-anchor=\"start\" x=\"1537\" y=\"-245.8\" font-family=\"Helvetica,sans-Serif\" font-size=\"14.00\" fill=\"#000000\">value = [33, 149]</text>\n<text text-anchor=\"start\" x=\"1562\" y=\"-230.8\" font-family=\"Helvetica,sans-Serif\" font-size=\"14.00\" fill=\"#000000\">class = 1</text>\n</g>\n<!-- 16&#45;&gt;24 -->\n<g id=\"edge24\" class=\"edge\">\n<title>16&#45;&gt;24</title>\n<path fill=\"none\" stroke=\"#000000\" d=\"M1400.5181,-352.6998C1435.6176,-336.4475 1478.8302,-316.4385 1515.2192,-299.5891\"/>\n<polygon fill=\"#000000\" stroke=\"#000000\" points=\"1516.7108,-302.7556 1524.3146,-295.3777 1513.7695,-296.4035 1516.7108,-302.7556\"/>\n</g>\n<!-- 18 -->\n<g id=\"node19\" class=\"node\">\n<title>18</title>\n<path fill=\"#9dcff2\" stroke=\"#000000\" d=\"M1294,-187C1294,-187 1200,-187 1200,-187 1194,-187 1188,-181 1188,-175 1188,-175 1188,-116 1188,-116 1188,-110 1194,-104 1200,-104 1200,-104 1294,-104 1294,-104 1300,-104 1306,-110 1306,-116 1306,-116 1306,-175 1306,-175 1306,-181 1300,-187 1294,-187\"/>\n<text text-anchor=\"start\" x=\"1196\" y=\"-171.8\" font-family=\"Helvetica,sans-Serif\" font-size=\"14.00\" fill=\"#000000\">Recency ≤ 41.0</text>\n<text text-anchor=\"start\" x=\"1209\" y=\"-156.8\" font-family=\"Helvetica,sans-Serif\" font-size=\"14.00\" fill=\"#000000\">gini = 0.447</text>\n<text text-anchor=\"start\" x=\"1199\" y=\"-141.8\" font-family=\"Helvetica,sans-Serif\" font-size=\"14.00\" fill=\"#000000\">samples = 104</text>\n<text text-anchor=\"start\" x=\"1197\" y=\"-126.8\" font-family=\"Helvetica,sans-Serif\" font-size=\"14.00\" fill=\"#000000\">value = [35, 69]</text>\n<text text-anchor=\"start\" x=\"1218\" y=\"-111.8\" font-family=\"Helvetica,sans-Serif\" font-size=\"14.00\" fill=\"#000000\">class = 1</text>\n</g>\n<!-- 17&#45;&gt;18 -->\n<g id=\"edge18\" class=\"edge\">\n<title>17&#45;&gt;18</title>\n<path fill=\"none\" stroke=\"#000000\" d=\"M1303.5716,-222.8796C1297.1189,-214.0534 1290.243,-204.6485 1283.5887,-195.5466\"/>\n<polygon fill=\"#000000\" stroke=\"#000000\" points=\"1286.2856,-193.3051 1277.5583,-187.2981 1280.6347,-197.4364 1286.2856,-193.3051\"/>\n</g>\n<!-- 21 -->\n<g id=\"node22\" class=\"node\">\n<title>21</title>\n<path fill=\"#f2c09c\" stroke=\"#000000\" d=\"M1507.5,-187C1507.5,-187 1336.5,-187 1336.5,-187 1330.5,-187 1324.5,-181 1324.5,-175 1324.5,-175 1324.5,-116 1324.5,-116 1324.5,-110 1330.5,-104 1336.5,-104 1336.5,-104 1507.5,-104 1507.5,-104 1513.5,-104 1519.5,-110 1519.5,-116 1519.5,-116 1519.5,-175 1519.5,-175 1519.5,-181 1513.5,-187 1507.5,-187\"/>\n<text text-anchor=\"start\" x=\"1332.5\" y=\"-171.8\" font-family=\"Helvetica,sans-Serif\" font-size=\"14.00\" fill=\"#000000\">NumStorePurchases ≤ 10.5</text>\n<text text-anchor=\"start\" x=\"1384\" y=\"-156.8\" font-family=\"Helvetica,sans-Serif\" font-size=\"14.00\" fill=\"#000000\">gini = 0.444</text>\n<text text-anchor=\"start\" x=\"1378\" y=\"-141.8\" font-family=\"Helvetica,sans-Serif\" font-size=\"14.00\" fill=\"#000000\">samples = 72</text>\n<text text-anchor=\"start\" x=\"1372\" y=\"-126.8\" font-family=\"Helvetica,sans-Serif\" font-size=\"14.00\" fill=\"#000000\">value = [48, 24]</text>\n<text text-anchor=\"start\" x=\"1393\" y=\"-111.8\" font-family=\"Helvetica,sans-Serif\" font-size=\"14.00\" fill=\"#000000\">class = 0</text>\n</g>\n<!-- 17&#45;&gt;21 -->\n<g id=\"edge21\" class=\"edge\">\n<title>17&#45;&gt;21</title>\n<path fill=\"none\" stroke=\"#000000\" d=\"M1364.7781,-222.8796C1371.3051,-214.0534 1378.2599,-204.6485 1384.9908,-195.5466\"/>\n<polygon fill=\"#000000\" stroke=\"#000000\" points=\"1387.9588,-197.4195 1391.0905,-187.2981 1382.3305,-193.2574 1387.9588,-197.4195\"/>\n</g>\n<!-- 19 -->\n<g id=\"node20\" class=\"node\">\n<title>19</title>\n<path fill=\"#61b1ea\" stroke=\"#000000\" d=\"M1199.5,-68C1199.5,-68 1116.5,-68 1116.5,-68 1110.5,-68 1104.5,-62 1104.5,-56 1104.5,-56 1104.5,-12 1104.5,-12 1104.5,-6 1110.5,0 1116.5,0 1116.5,0 1199.5,0 1199.5,0 1205.5,0 1211.5,-6 1211.5,-12 1211.5,-12 1211.5,-56 1211.5,-56 1211.5,-62 1205.5,-68 1199.5,-68\"/>\n<text text-anchor=\"start\" x=\"1120\" y=\"-52.8\" font-family=\"Helvetica,sans-Serif\" font-size=\"14.00\" fill=\"#000000\">gini = 0.278</text>\n<text text-anchor=\"start\" x=\"1114\" y=\"-37.8\" font-family=\"Helvetica,sans-Serif\" font-size=\"14.00\" fill=\"#000000\">samples = 48</text>\n<text text-anchor=\"start\" x=\"1112.5\" y=\"-22.8\" font-family=\"Helvetica,sans-Serif\" font-size=\"14.00\" fill=\"#000000\">value = [8, 40]</text>\n<text text-anchor=\"start\" x=\"1129\" y=\"-7.8\" font-family=\"Helvetica,sans-Serif\" font-size=\"14.00\" fill=\"#000000\">class = 1</text>\n</g>\n<!-- 18&#45;&gt;19 -->\n<g id=\"edge19\" class=\"edge\">\n<title>18&#45;&gt;19</title>\n<path fill=\"none\" stroke=\"#000000\" d=\"M1213.8597,-103.9815C1206.597,-94.8828 1198.9017,-85.242 1191.6204,-76.1199\"/>\n<polygon fill=\"#000000\" stroke=\"#000000\" points=\"1194.3234,-73.8958 1185.3495,-68.2637 1188.8525,-78.2627 1194.3234,-73.8958\"/>\n</g>\n<!-- 20 -->\n<g id=\"node21\" class=\"node\">\n<title>20</title>\n<path fill=\"#f1f8fd\" stroke=\"#000000\" d=\"M1334,-68C1334,-68 1242,-68 1242,-68 1236,-68 1230,-62 1230,-56 1230,-56 1230,-12 1230,-12 1230,-6 1236,0 1242,0 1242,0 1334,0 1334,0 1340,0 1346,-6 1346,-12 1346,-12 1346,-56 1346,-56 1346,-62 1340,-68 1334,-68\"/>\n<text text-anchor=\"start\" x=\"1250\" y=\"-52.8\" font-family=\"Helvetica,sans-Serif\" font-size=\"14.00\" fill=\"#000000\">gini = 0.499</text>\n<text text-anchor=\"start\" x=\"1244\" y=\"-37.8\" font-family=\"Helvetica,sans-Serif\" font-size=\"14.00\" fill=\"#000000\">samples = 56</text>\n<text text-anchor=\"start\" x=\"1238\" y=\"-22.8\" font-family=\"Helvetica,sans-Serif\" font-size=\"14.00\" fill=\"#000000\">value = [27, 29]</text>\n<text text-anchor=\"start\" x=\"1259\" y=\"-7.8\" font-family=\"Helvetica,sans-Serif\" font-size=\"14.00\" fill=\"#000000\">class = 1</text>\n</g>\n<!-- 18&#45;&gt;20 -->\n<g id=\"edge20\" class=\"edge\">\n<title>18&#45;&gt;20</title>\n<path fill=\"none\" stroke=\"#000000\" d=\"M1262.2669,-103.9815C1265.4098,-95.4342 1268.7287,-86.4086 1271.9001,-77.7839\"/>\n<polygon fill=\"#000000\" stroke=\"#000000\" points=\"1275.2345,-78.8572 1275.4008,-68.2637 1268.6646,-76.4413 1275.2345,-78.8572\"/>\n</g>\n<!-- 22 -->\n<g id=\"node23\" class=\"node\">\n<title>22</title>\n<path fill=\"#f8dcc8\" stroke=\"#000000\" d=\"M1468,-68C1468,-68 1376,-68 1376,-68 1370,-68 1364,-62 1364,-56 1364,-56 1364,-12 1364,-12 1364,-6 1370,0 1376,0 1376,0 1468,0 1468,0 1474,0 1480,-6 1480,-12 1480,-12 1480,-56 1480,-56 1480,-62 1474,-68 1468,-68\"/>\n<text text-anchor=\"start\" x=\"1384\" y=\"-52.8\" font-family=\"Helvetica,sans-Serif\" font-size=\"14.00\" fill=\"#000000\">gini = 0.487</text>\n<text text-anchor=\"start\" x=\"1378\" y=\"-37.8\" font-family=\"Helvetica,sans-Serif\" font-size=\"14.00\" fill=\"#000000\">samples = 50</text>\n<text text-anchor=\"start\" x=\"1372\" y=\"-22.8\" font-family=\"Helvetica,sans-Serif\" font-size=\"14.00\" fill=\"#000000\">value = [29, 21]</text>\n<text text-anchor=\"start\" x=\"1393\" y=\"-7.8\" font-family=\"Helvetica,sans-Serif\" font-size=\"14.00\" fill=\"#000000\">class = 0</text>\n</g>\n<!-- 21&#45;&gt;22 -->\n<g id=\"edge22\" class=\"edge\">\n<title>21&#45;&gt;22</title>\n<path fill=\"none\" stroke=\"#000000\" d=\"M1422,-103.9815C1422,-95.618 1422,-86.7965 1422,-78.3409\"/>\n<polygon fill=\"#000000\" stroke=\"#000000\" points=\"1425.5001,-78.2636 1422,-68.2637 1418.5001,-78.2637 1425.5001,-78.2636\"/>\n</g>\n<!-- 23 -->\n<g id=\"node24\" class=\"node\">\n<title>23</title>\n<path fill=\"#e99558\" stroke=\"#000000\" d=\"M1593.5,-68C1593.5,-68 1510.5,-68 1510.5,-68 1504.5,-68 1498.5,-62 1498.5,-56 1498.5,-56 1498.5,-12 1498.5,-12 1498.5,-6 1504.5,0 1510.5,0 1510.5,0 1593.5,0 1593.5,0 1599.5,0 1605.5,-6 1605.5,-12 1605.5,-12 1605.5,-56 1605.5,-56 1605.5,-62 1599.5,-68 1593.5,-68\"/>\n<text text-anchor=\"start\" x=\"1514\" y=\"-52.8\" font-family=\"Helvetica,sans-Serif\" font-size=\"14.00\" fill=\"#000000\">gini = 0.236</text>\n<text text-anchor=\"start\" x=\"1508\" y=\"-37.8\" font-family=\"Helvetica,sans-Serif\" font-size=\"14.00\" fill=\"#000000\">samples = 22</text>\n<text text-anchor=\"start\" x=\"1506.5\" y=\"-22.8\" font-family=\"Helvetica,sans-Serif\" font-size=\"14.00\" fill=\"#000000\">value = [19, 3]</text>\n<text text-anchor=\"start\" x=\"1523\" y=\"-7.8\" font-family=\"Helvetica,sans-Serif\" font-size=\"14.00\" fill=\"#000000\">class = 0</text>\n</g>\n<!-- 21&#45;&gt;23 -->\n<g id=\"edge23\" class=\"edge\">\n<title>21&#45;&gt;23</title>\n<path fill=\"none\" stroke=\"#000000\" d=\"M1470.4072,-103.9815C1481.4442,-94.5151 1493.1653,-84.462 1504.1777,-75.0168\"/>\n<polygon fill=\"#000000\" stroke=\"#000000\" points=\"1506.7394,-77.4307 1512.0513,-68.2637 1502.1822,-72.1173 1506.7394,-77.4307\"/>\n</g>\n<!-- 25 -->\n<g id=\"node26\" class=\"node\">\n<title>25</title>\n<path fill=\"#399de5\" stroke=\"#000000\" d=\"M1632.5,-179.5C1632.5,-179.5 1549.5,-179.5 1549.5,-179.5 1543.5,-179.5 1537.5,-173.5 1537.5,-167.5 1537.5,-167.5 1537.5,-123.5 1537.5,-123.5 1537.5,-117.5 1543.5,-111.5 1549.5,-111.5 1549.5,-111.5 1632.5,-111.5 1632.5,-111.5 1638.5,-111.5 1644.5,-117.5 1644.5,-123.5 1644.5,-123.5 1644.5,-167.5 1644.5,-167.5 1644.5,-173.5 1638.5,-179.5 1632.5,-179.5\"/>\n<text text-anchor=\"start\" x=\"1561.5\" y=\"-164.3\" font-family=\"Helvetica,sans-Serif\" font-size=\"14.00\" fill=\"#000000\">gini = 0.0</text>\n<text text-anchor=\"start\" x=\"1547\" y=\"-149.3\" font-family=\"Helvetica,sans-Serif\" font-size=\"14.00\" fill=\"#000000\">samples = 18</text>\n<text text-anchor=\"start\" x=\"1545.5\" y=\"-134.3\" font-family=\"Helvetica,sans-Serif\" font-size=\"14.00\" fill=\"#000000\">value = [0, 18]</text>\n<text text-anchor=\"start\" x=\"1562\" y=\"-119.3\" font-family=\"Helvetica,sans-Serif\" font-size=\"14.00\" fill=\"#000000\">class = 1</text>\n</g>\n<!-- 24&#45;&gt;25 -->\n<g id=\"edge25\" class=\"edge\">\n<title>24&#45;&gt;25</title>\n<path fill=\"none\" stroke=\"#000000\" d=\"M1591,-222.8796C1591,-212.2134 1591,-200.7021 1591,-189.9015\"/>\n<polygon fill=\"#000000\" stroke=\"#000000\" points=\"1594.5001,-189.8149 1591,-179.8149 1587.5001,-189.815 1594.5001,-189.8149\"/>\n</g>\n<!-- 26 -->\n<g id=\"node27\" class=\"node\">\n<title>26</title>\n<path fill=\"#6bb6ec\" stroke=\"#000000\" d=\"M1783.5,-187C1783.5,-187 1674.5,-187 1674.5,-187 1668.5,-187 1662.5,-181 1662.5,-175 1662.5,-175 1662.5,-116 1662.5,-116 1662.5,-110 1668.5,-104 1674.5,-104 1674.5,-104 1783.5,-104 1783.5,-104 1789.5,-104 1795.5,-110 1795.5,-116 1795.5,-116 1795.5,-175 1795.5,-175 1795.5,-181 1789.5,-187 1783.5,-187\"/>\n<text text-anchor=\"start\" x=\"1670.5\" y=\"-171.8\" font-family=\"Helvetica,sans-Serif\" font-size=\"14.00\" fill=\"#000000\">MntWines ≤ 926.5</text>\n<text text-anchor=\"start\" x=\"1691\" y=\"-156.8\" font-family=\"Helvetica,sans-Serif\" font-size=\"14.00\" fill=\"#000000\">gini = 0.321</text>\n<text text-anchor=\"start\" x=\"1681\" y=\"-141.8\" font-family=\"Helvetica,sans-Serif\" font-size=\"14.00\" fill=\"#000000\">samples = 164</text>\n<text text-anchor=\"start\" x=\"1675\" y=\"-126.8\" font-family=\"Helvetica,sans-Serif\" font-size=\"14.00\" fill=\"#000000\">value = [33, 131]</text>\n<text text-anchor=\"start\" x=\"1700\" y=\"-111.8\" font-family=\"Helvetica,sans-Serif\" font-size=\"14.00\" fill=\"#000000\">class = 1</text>\n</g>\n<!-- 24&#45;&gt;26 -->\n<g id=\"edge26\" class=\"edge\">\n<title>24&#45;&gt;26</title>\n<path fill=\"none\" stroke=\"#000000\" d=\"M1639.2657,-222.8796C1650.1278,-213.513 1661.7456,-203.4948 1672.8973,-193.8784\"/>\n<polygon fill=\"#000000\" stroke=\"#000000\" points=\"1675.2408,-196.4792 1680.5283,-187.2981 1670.6694,-191.178 1675.2408,-196.4792\"/>\n</g>\n<!-- 27 -->\n<g id=\"node28\" class=\"node\">\n<title>27</title>\n<path fill=\"#e58139\" stroke=\"#000000\" d=\"M1738.5,-68C1738.5,-68 1663.5,-68 1663.5,-68 1657.5,-68 1651.5,-62 1651.5,-56 1651.5,-56 1651.5,-12 1651.5,-12 1651.5,-6 1657.5,0 1663.5,0 1663.5,0 1738.5,0 1738.5,0 1744.5,0 1750.5,-6 1750.5,-12 1750.5,-12 1750.5,-56 1750.5,-56 1750.5,-62 1744.5,-68 1738.5,-68\"/>\n<text text-anchor=\"start\" x=\"1671.5\" y=\"-52.8\" font-family=\"Helvetica,sans-Serif\" font-size=\"14.00\" fill=\"#000000\">gini = 0.0</text>\n<text text-anchor=\"start\" x=\"1661.5\" y=\"-37.8\" font-family=\"Helvetica,sans-Serif\" font-size=\"14.00\" fill=\"#000000\">samples = 4</text>\n<text text-anchor=\"start\" x=\"1659.5\" y=\"-22.8\" font-family=\"Helvetica,sans-Serif\" font-size=\"14.00\" fill=\"#000000\">value = [4, 0]</text>\n<text text-anchor=\"start\" x=\"1672\" y=\"-7.8\" font-family=\"Helvetica,sans-Serif\" font-size=\"14.00\" fill=\"#000000\">class = 0</text>\n</g>\n<!-- 26&#45;&gt;27 -->\n<g id=\"edge27\" class=\"edge\">\n<title>26&#45;&gt;27</title>\n<path fill=\"none\" stroke=\"#000000\" d=\"M1718.5738,-103.9815C1716.4505,-95.5261 1714.2096,-86.6026 1712.065,-78.0623\"/>\n<polygon fill=\"#000000\" stroke=\"#000000\" points=\"1715.4346,-77.1101 1709.6043,-68.2637 1708.6454,-78.815 1715.4346,-77.1101\"/>\n</g>\n<!-- 28 -->\n<g id=\"node29\" class=\"node\">\n<title>28</title>\n<path fill=\"#65b3eb\" stroke=\"#000000\" d=\"M1881,-68C1881,-68 1781,-68 1781,-68 1775,-68 1769,-62 1769,-56 1769,-56 1769,-12 1769,-12 1769,-6 1775,0 1781,0 1781,0 1881,0 1881,0 1887,0 1893,-6 1893,-12 1893,-12 1893,-56 1893,-56 1893,-62 1887,-68 1881,-68\"/>\n<text text-anchor=\"start\" x=\"1793\" y=\"-52.8\" font-family=\"Helvetica,sans-Serif\" font-size=\"14.00\" fill=\"#000000\">gini = 0.297</text>\n<text text-anchor=\"start\" x=\"1783\" y=\"-37.8\" font-family=\"Helvetica,sans-Serif\" font-size=\"14.00\" fill=\"#000000\">samples = 160</text>\n<text text-anchor=\"start\" x=\"1777\" y=\"-22.8\" font-family=\"Helvetica,sans-Serif\" font-size=\"14.00\" fill=\"#000000\">value = [29, 131]</text>\n<text text-anchor=\"start\" x=\"1802\" y=\"-7.8\" font-family=\"Helvetica,sans-Serif\" font-size=\"14.00\" fill=\"#000000\">class = 1</text>\n</g>\n<!-- 26&#45;&gt;28 -->\n<g id=\"edge28\" class=\"edge\">\n<title>26&#45;&gt;28</title>\n<path fill=\"none\" stroke=\"#000000\" d=\"M1766.981,-103.9815C1775.3886,-94.7908 1784.3021,-85.0472 1792.7215,-75.8436\"/>\n<polygon fill=\"#000000\" stroke=\"#000000\" points=\"1795.4883,-78.0045 1799.6557,-68.2637 1790.3234,-73.2797 1795.4883,-78.0045\"/>\n</g>\n</g>\n</svg>\n",
            "text/plain": [
              "<graphviz.files.Source at 0x7f06fb5ce410>"
            ]
          },
          "execution_count": 55,
          "metadata": {
            "tags": []
          },
          "output_type": "execute_result"
        }
      ],
      "source": [
        "graph"
      ]
    },
    {
      "attachments": {},
      "cell_type": "markdown",
      "metadata": {
        "id": "HnSe-ZQp3hbQ"
      },
      "source": [
        "We can detect that the branches that reach \"class = 1\" are the customers who have a high probability of buying as a result of our marketing campaigns."
      ]
    }
  ],
  "metadata": {
    "colab": {
      "authorship_tag": "ABX9TyOJQjpNHj+VV6jtf5S5TYc/",
      "collapsed_sections": [],
      "include_colab_link": true,
      "name": "data_marketing.ipynb",
      "provenance": []
    },
    "kernelspec": {
      "display_name": "Python 3",
      "language": "python",
      "name": "python3"
    },
    "language_info": {
      "codemirror_mode": {
        "name": "ipython",
        "version": 3
      },
      "file_extension": ".py",
      "mimetype": "text/x-python",
      "name": "python",
      "nbconvert_exporter": "python",
      "pygments_lexer": "ipython3",
      "version": "3.10.6"
    },
    "vscode": {
      "interpreter": {
        "hash": "916dbcbb3f70747c44a77c7bcd40155683ae19c65e1c03b4aa3499c5328201f1"
      }
    }
  },
  "nbformat": 4,
  "nbformat_minor": 0
}
